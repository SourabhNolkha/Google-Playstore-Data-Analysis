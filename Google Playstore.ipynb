{
 "cells": [
  {
   "cell_type": "markdown",
   "metadata": {},
   "source": [
    "# <u><font color='indigo'>Google Playstore Apps Analysis:<font>"
   ]
  },
  {
   "cell_type": "code",
   "execution_count": 1,
   "metadata": {},
   "outputs": [],
   "source": [
    "import pandas as pd\n",
    "import numpy as np"
   ]
  },
  {
   "cell_type": "markdown",
   "metadata": {},
   "source": [
    "### Loading data from csv file. Contains over 2.3 million rows! So, takes a few seconds to load."
   ]
  },
  {
   "cell_type": "code",
   "execution_count": 2,
   "metadata": {},
   "outputs": [
    {
     "name": "stdout",
     "output_type": "stream",
     "text": [
      "Wall time: 13.1 s\n"
     ]
    }
   ],
   "source": [
    "%%time\n",
    "df=pd.read_csv(r\"C:\\Users\\soura\\OneDrive\\Documents\\Datasets\\GooglePlaystore.csv\",na_values=[np.nan,\"Null\",\"null\",None,\"none\",\"None\"])"
   ]
  },
  {
   "cell_type": "code",
   "execution_count": 3,
   "metadata": {},
   "outputs": [],
   "source": [
    "pd.set_option(\"display.max_columns\",50)"
   ]
  },
  {
   "cell_type": "code",
   "execution_count": 4,
   "metadata": {},
   "outputs": [],
   "source": [
    "df.dropna(how=\"all\",inplace=True)\n",
    "df.drop_duplicates(inplace=True)"
   ]
  },
  {
   "cell_type": "code",
   "execution_count": 5,
   "metadata": {},
   "outputs": [
    {
     "data": {
      "text/html": [
       "<div>\n",
       "<style scoped>\n",
       "    .dataframe tbody tr th:only-of-type {\n",
       "        vertical-align: middle;\n",
       "    }\n",
       "\n",
       "    .dataframe tbody tr th {\n",
       "        vertical-align: top;\n",
       "    }\n",
       "\n",
       "    .dataframe thead th {\n",
       "        text-align: right;\n",
       "    }\n",
       "</style>\n",
       "<table border=\"1\" class=\"dataframe\">\n",
       "  <thead>\n",
       "    <tr style=\"text-align: right;\">\n",
       "      <th></th>\n",
       "      <th>App Name</th>\n",
       "      <th>App Id</th>\n",
       "      <th>Category</th>\n",
       "      <th>Rating</th>\n",
       "      <th>Rating Count</th>\n",
       "      <th>Installs</th>\n",
       "      <th>Minimum Installs</th>\n",
       "      <th>Maximum Installs</th>\n",
       "      <th>Free</th>\n",
       "      <th>Price</th>\n",
       "      <th>Currency</th>\n",
       "      <th>Size</th>\n",
       "      <th>Minimum Android</th>\n",
       "      <th>Developer Id</th>\n",
       "      <th>Developer Website</th>\n",
       "      <th>Developer Email</th>\n",
       "      <th>Released</th>\n",
       "      <th>Last Updated</th>\n",
       "      <th>Content Rating</th>\n",
       "      <th>Privacy Policy</th>\n",
       "      <th>Ad Supported</th>\n",
       "      <th>In App Purchases</th>\n",
       "      <th>Editors Choice</th>\n",
       "      <th>Scraped Time</th>\n",
       "    </tr>\n",
       "  </thead>\n",
       "  <tbody>\n",
       "    <tr>\n",
       "      <th>0</th>\n",
       "      <td>Gakondo</td>\n",
       "      <td>com.ishakwe.gakondo</td>\n",
       "      <td>Adventure</td>\n",
       "      <td>0.0</td>\n",
       "      <td>0.0</td>\n",
       "      <td>10+</td>\n",
       "      <td>10.0</td>\n",
       "      <td>15</td>\n",
       "      <td>True</td>\n",
       "      <td>0.0</td>\n",
       "      <td>USD</td>\n",
       "      <td>10M</td>\n",
       "      <td>7.1 and up</td>\n",
       "      <td>Jean Confident Irénée NIYIZIBYOSE</td>\n",
       "      <td>https://beniyizibyose.tk/#/</td>\n",
       "      <td>jean21101999@gmail.com</td>\n",
       "      <td>Feb 26, 2020</td>\n",
       "      <td>Feb 26, 2020</td>\n",
       "      <td>Everyone</td>\n",
       "      <td>https://beniyizibyose.tk/projects/</td>\n",
       "      <td>False</td>\n",
       "      <td>False</td>\n",
       "      <td>False</td>\n",
       "      <td>2021-06-15 20:19:35</td>\n",
       "    </tr>\n",
       "    <tr>\n",
       "      <th>1</th>\n",
       "      <td>Ampere Battery Info</td>\n",
       "      <td>com.webserveis.batteryinfo</td>\n",
       "      <td>Tools</td>\n",
       "      <td>4.4</td>\n",
       "      <td>64.0</td>\n",
       "      <td>5,000+</td>\n",
       "      <td>5000.0</td>\n",
       "      <td>7662</td>\n",
       "      <td>True</td>\n",
       "      <td>0.0</td>\n",
       "      <td>USD</td>\n",
       "      <td>2.9M</td>\n",
       "      <td>5.0 and up</td>\n",
       "      <td>Webserveis</td>\n",
       "      <td>https://webserveis.netlify.app/</td>\n",
       "      <td>webserveis@gmail.com</td>\n",
       "      <td>May 21, 2020</td>\n",
       "      <td>May 06, 2021</td>\n",
       "      <td>Everyone</td>\n",
       "      <td>https://dev4phones.wordpress.com/licencia-de-uso/</td>\n",
       "      <td>True</td>\n",
       "      <td>False</td>\n",
       "      <td>False</td>\n",
       "      <td>2021-06-15 20:19:35</td>\n",
       "    </tr>\n",
       "    <tr>\n",
       "      <th>2</th>\n",
       "      <td>Vibook</td>\n",
       "      <td>com.doantiepvien.crm</td>\n",
       "      <td>Productivity</td>\n",
       "      <td>0.0</td>\n",
       "      <td>0.0</td>\n",
       "      <td>50+</td>\n",
       "      <td>50.0</td>\n",
       "      <td>58</td>\n",
       "      <td>True</td>\n",
       "      <td>0.0</td>\n",
       "      <td>USD</td>\n",
       "      <td>3.7M</td>\n",
       "      <td>4.0.3 and up</td>\n",
       "      <td>Cabin Crew</td>\n",
       "      <td>NaN</td>\n",
       "      <td>vnacrewit@gmail.com</td>\n",
       "      <td>Aug 9, 2019</td>\n",
       "      <td>Aug 19, 2019</td>\n",
       "      <td>Everyone</td>\n",
       "      <td>https://www.vietnamairlines.com/vn/en/terms-an...</td>\n",
       "      <td>False</td>\n",
       "      <td>False</td>\n",
       "      <td>False</td>\n",
       "      <td>2021-06-15 20:19:35</td>\n",
       "    </tr>\n",
       "    <tr>\n",
       "      <th>3</th>\n",
       "      <td>Smart City Trichy Public Service Vehicles 17UC...</td>\n",
       "      <td>cst.stJoseph.ug17ucs548</td>\n",
       "      <td>Communication</td>\n",
       "      <td>5.0</td>\n",
       "      <td>5.0</td>\n",
       "      <td>10+</td>\n",
       "      <td>10.0</td>\n",
       "      <td>19</td>\n",
       "      <td>True</td>\n",
       "      <td>0.0</td>\n",
       "      <td>USD</td>\n",
       "      <td>1.8M</td>\n",
       "      <td>4.0.3 and up</td>\n",
       "      <td>Climate Smart Tech2</td>\n",
       "      <td>http://www.climatesmarttech.com/</td>\n",
       "      <td>climatesmarttech2@gmail.com</td>\n",
       "      <td>Sep 10, 2018</td>\n",
       "      <td>Oct 13, 2018</td>\n",
       "      <td>Everyone</td>\n",
       "      <td>NaN</td>\n",
       "      <td>True</td>\n",
       "      <td>False</td>\n",
       "      <td>False</td>\n",
       "      <td>2021-06-15 20:19:35</td>\n",
       "    </tr>\n",
       "    <tr>\n",
       "      <th>4</th>\n",
       "      <td>GROW.me</td>\n",
       "      <td>com.horodyski.grower</td>\n",
       "      <td>Tools</td>\n",
       "      <td>0.0</td>\n",
       "      <td>0.0</td>\n",
       "      <td>100+</td>\n",
       "      <td>100.0</td>\n",
       "      <td>478</td>\n",
       "      <td>True</td>\n",
       "      <td>0.0</td>\n",
       "      <td>USD</td>\n",
       "      <td>6.2M</td>\n",
       "      <td>4.1 and up</td>\n",
       "      <td>Rafal Milek-Horodyski</td>\n",
       "      <td>http://www.horodyski.com.pl</td>\n",
       "      <td>rmilekhorodyski@gmail.com</td>\n",
       "      <td>Feb 21, 2020</td>\n",
       "      <td>Nov 12, 2018</td>\n",
       "      <td>Everyone</td>\n",
       "      <td>http://www.horodyski.com.pl</td>\n",
       "      <td>False</td>\n",
       "      <td>False</td>\n",
       "      <td>False</td>\n",
       "      <td>2021-06-15 20:19:35</td>\n",
       "    </tr>\n",
       "    <tr>\n",
       "      <th>...</th>\n",
       "      <td>...</td>\n",
       "      <td>...</td>\n",
       "      <td>...</td>\n",
       "      <td>...</td>\n",
       "      <td>...</td>\n",
       "      <td>...</td>\n",
       "      <td>...</td>\n",
       "      <td>...</td>\n",
       "      <td>...</td>\n",
       "      <td>...</td>\n",
       "      <td>...</td>\n",
       "      <td>...</td>\n",
       "      <td>...</td>\n",
       "      <td>...</td>\n",
       "      <td>...</td>\n",
       "      <td>...</td>\n",
       "      <td>...</td>\n",
       "      <td>...</td>\n",
       "      <td>...</td>\n",
       "      <td>...</td>\n",
       "      <td>...</td>\n",
       "      <td>...</td>\n",
       "      <td>...</td>\n",
       "      <td>...</td>\n",
       "    </tr>\n",
       "    <tr>\n",
       "      <th>2312939</th>\n",
       "      <td>大俠客—熱血歸來</td>\n",
       "      <td>com.rxsj.ssjj</td>\n",
       "      <td>Role Playing</td>\n",
       "      <td>4.3</td>\n",
       "      <td>16775.0</td>\n",
       "      <td>100,000+</td>\n",
       "      <td>100000.0</td>\n",
       "      <td>337109</td>\n",
       "      <td>True</td>\n",
       "      <td>0.0</td>\n",
       "      <td>USD</td>\n",
       "      <td>77M</td>\n",
       "      <td>4.1 and up</td>\n",
       "      <td>ALICE GAME</td>\n",
       "      <td>http://www.4399sy.com.hk/</td>\n",
       "      <td>ssjjcomhk@gmail.com</td>\n",
       "      <td>NaN</td>\n",
       "      <td>Jun 01, 2021</td>\n",
       "      <td>Teen</td>\n",
       "      <td>http://a.4399sy.com.hk/user/aggreement</td>\n",
       "      <td>False</td>\n",
       "      <td>False</td>\n",
       "      <td>False</td>\n",
       "      <td>2021-06-16 12:59:18</td>\n",
       "    </tr>\n",
       "    <tr>\n",
       "      <th>2312940</th>\n",
       "      <td>ORU Online</td>\n",
       "      <td>com.threedream.oruonline</td>\n",
       "      <td>Education</td>\n",
       "      <td>0.0</td>\n",
       "      <td>0.0</td>\n",
       "      <td>100+</td>\n",
       "      <td>100.0</td>\n",
       "      <td>430</td>\n",
       "      <td>True</td>\n",
       "      <td>0.0</td>\n",
       "      <td>USD</td>\n",
       "      <td>44M</td>\n",
       "      <td>4.1 and up</td>\n",
       "      <td>3Dream Studios, LLC</td>\n",
       "      <td>http://www.oru.edu/</td>\n",
       "      <td>3DreamDeveloper@gmail.com</td>\n",
       "      <td>Jan 17, 2018</td>\n",
       "      <td>Feb 02, 2018</td>\n",
       "      <td>Everyone</td>\n",
       "      <td>http://www.oru.edu/about-oru/privacy-policy.php</td>\n",
       "      <td>False</td>\n",
       "      <td>False</td>\n",
       "      <td>False</td>\n",
       "      <td>2021-06-16 12:59:19</td>\n",
       "    </tr>\n",
       "    <tr>\n",
       "      <th>2312941</th>\n",
       "      <td>Data Structure</td>\n",
       "      <td>datastructure.appoworld.datastucture</td>\n",
       "      <td>Education</td>\n",
       "      <td>0.0</td>\n",
       "      <td>0.0</td>\n",
       "      <td>100+</td>\n",
       "      <td>100.0</td>\n",
       "      <td>202</td>\n",
       "      <td>True</td>\n",
       "      <td>0.0</td>\n",
       "      <td>USD</td>\n",
       "      <td>29M</td>\n",
       "      <td>5.0 and up</td>\n",
       "      <td>appoworld</td>\n",
       "      <td>NaN</td>\n",
       "      <td>appoworld.official@gmail.com</td>\n",
       "      <td>Aug 19, 2018</td>\n",
       "      <td>Aug 19, 2018</td>\n",
       "      <td>Everyone</td>\n",
       "      <td>https://appoworld.000webhostapp.com/datastruct...</td>\n",
       "      <td>False</td>\n",
       "      <td>False</td>\n",
       "      <td>False</td>\n",
       "      <td>2021-06-16 12:59:19</td>\n",
       "    </tr>\n",
       "    <tr>\n",
       "      <th>2312942</th>\n",
       "      <td>Devi Suktam</td>\n",
       "      <td>ishan.devi.suktam</td>\n",
       "      <td>Music &amp; Audio</td>\n",
       "      <td>3.5</td>\n",
       "      <td>8.0</td>\n",
       "      <td>1,000+</td>\n",
       "      <td>1000.0</td>\n",
       "      <td>2635</td>\n",
       "      <td>True</td>\n",
       "      <td>0.0</td>\n",
       "      <td>USD</td>\n",
       "      <td>10M</td>\n",
       "      <td>5.0 and up</td>\n",
       "      <td>Bhakti</td>\n",
       "      <td>https://a70f78905.app-ads-txt.com</td>\n",
       "      <td>ruchisono@gmail.com</td>\n",
       "      <td>Aug 1, 2016</td>\n",
       "      <td>May 05, 2021</td>\n",
       "      <td>Everyone</td>\n",
       "      <td>https://docs.google.com/document/d/1x-9reZuLRX...</td>\n",
       "      <td>True</td>\n",
       "      <td>False</td>\n",
       "      <td>False</td>\n",
       "      <td>2021-06-16 12:59:19</td>\n",
       "    </tr>\n",
       "    <tr>\n",
       "      <th>2312943</th>\n",
       "      <td>Biliyor Musun - Sonsuz Yarış</td>\n",
       "      <td>com.yyazilim.biliyormusun</td>\n",
       "      <td>Trivia</td>\n",
       "      <td>5.0</td>\n",
       "      <td>12.0</td>\n",
       "      <td>100+</td>\n",
       "      <td>100.0</td>\n",
       "      <td>354</td>\n",
       "      <td>True</td>\n",
       "      <td>0.0</td>\n",
       "      <td>USD</td>\n",
       "      <td>5.2M</td>\n",
       "      <td>5.0 and up</td>\n",
       "      <td>Y Yazılım</td>\n",
       "      <td>NaN</td>\n",
       "      <td>yyazilimdevelop@gmail.com</td>\n",
       "      <td>Aug 9, 2019</td>\n",
       "      <td>Aug 19, 2019</td>\n",
       "      <td>Everyone</td>\n",
       "      <td>https://biliyor-musun-sons.flycricket.io/priva...</td>\n",
       "      <td>True</td>\n",
       "      <td>False</td>\n",
       "      <td>False</td>\n",
       "      <td>2021-06-16 12:59:19</td>\n",
       "    </tr>\n",
       "  </tbody>\n",
       "</table>\n",
       "<p>2312944 rows × 24 columns</p>\n",
       "</div>"
      ],
      "text/plain": [
       "                                                  App Name  \\\n",
       "0                                                  Gakondo   \n",
       "1                                      Ampere Battery Info   \n",
       "2                                                   Vibook   \n",
       "3        Smart City Trichy Public Service Vehicles 17UC...   \n",
       "4                                                  GROW.me   \n",
       "...                                                    ...   \n",
       "2312939                                           大俠客—熱血歸來   \n",
       "2312940                                         ORU Online   \n",
       "2312941                                     Data Structure   \n",
       "2312942                                        Devi Suktam   \n",
       "2312943                       Biliyor Musun - Sonsuz Yarış   \n",
       "\n",
       "                                       App Id       Category  Rating  \\\n",
       "0                         com.ishakwe.gakondo      Adventure     0.0   \n",
       "1                  com.webserveis.batteryinfo          Tools     4.4   \n",
       "2                        com.doantiepvien.crm   Productivity     0.0   \n",
       "3                     cst.stJoseph.ug17ucs548  Communication     5.0   \n",
       "4                        com.horodyski.grower          Tools     0.0   \n",
       "...                                       ...            ...     ...   \n",
       "2312939                         com.rxsj.ssjj   Role Playing     4.3   \n",
       "2312940              com.threedream.oruonline      Education     0.0   \n",
       "2312941  datastructure.appoworld.datastucture      Education     0.0   \n",
       "2312942                     ishan.devi.suktam  Music & Audio     3.5   \n",
       "2312943             com.yyazilim.biliyormusun         Trivia     5.0   \n",
       "\n",
       "         Rating Count  Installs  Minimum Installs  Maximum Installs  Free  \\\n",
       "0                 0.0       10+              10.0                15  True   \n",
       "1                64.0    5,000+            5000.0              7662  True   \n",
       "2                 0.0       50+              50.0                58  True   \n",
       "3                 5.0       10+              10.0                19  True   \n",
       "4                 0.0      100+             100.0               478  True   \n",
       "...               ...       ...               ...               ...   ...   \n",
       "2312939       16775.0  100,000+          100000.0            337109  True   \n",
       "2312940           0.0      100+             100.0               430  True   \n",
       "2312941           0.0      100+             100.0               202  True   \n",
       "2312942           8.0    1,000+            1000.0              2635  True   \n",
       "2312943          12.0      100+             100.0               354  True   \n",
       "\n",
       "         Price Currency  Size Minimum Android  \\\n",
       "0          0.0      USD   10M      7.1 and up   \n",
       "1          0.0      USD  2.9M      5.0 and up   \n",
       "2          0.0      USD  3.7M    4.0.3 and up   \n",
       "3          0.0      USD  1.8M    4.0.3 and up   \n",
       "4          0.0      USD  6.2M      4.1 and up   \n",
       "...        ...      ...   ...             ...   \n",
       "2312939    0.0      USD   77M      4.1 and up   \n",
       "2312940    0.0      USD   44M      4.1 and up   \n",
       "2312941    0.0      USD   29M      5.0 and up   \n",
       "2312942    0.0      USD   10M      5.0 and up   \n",
       "2312943    0.0      USD  5.2M      5.0 and up   \n",
       "\n",
       "                              Developer Id                  Developer Website  \\\n",
       "0        Jean Confident Irénée NIYIZIBYOSE        https://beniyizibyose.tk/#/   \n",
       "1                               Webserveis    https://webserveis.netlify.app/   \n",
       "2                               Cabin Crew                                NaN   \n",
       "3                      Climate Smart Tech2   http://www.climatesmarttech.com/   \n",
       "4                    Rafal Milek-Horodyski        http://www.horodyski.com.pl   \n",
       "...                                    ...                                ...   \n",
       "2312939                         ALICE GAME          http://www.4399sy.com.hk/   \n",
       "2312940                3Dream Studios, LLC                http://www.oru.edu/   \n",
       "2312941                          appoworld                                NaN   \n",
       "2312942                             Bhakti  https://a70f78905.app-ads-txt.com   \n",
       "2312943                          Y Yazılım                                NaN   \n",
       "\n",
       "                      Developer Email      Released  Last Updated  \\\n",
       "0              jean21101999@gmail.com  Feb 26, 2020  Feb 26, 2020   \n",
       "1                webserveis@gmail.com  May 21, 2020  May 06, 2021   \n",
       "2                 vnacrewit@gmail.com   Aug 9, 2019  Aug 19, 2019   \n",
       "3         climatesmarttech2@gmail.com  Sep 10, 2018  Oct 13, 2018   \n",
       "4           rmilekhorodyski@gmail.com  Feb 21, 2020  Nov 12, 2018   \n",
       "...                               ...           ...           ...   \n",
       "2312939           ssjjcomhk@gmail.com           NaN  Jun 01, 2021   \n",
       "2312940     3DreamDeveloper@gmail.com  Jan 17, 2018  Feb 02, 2018   \n",
       "2312941  appoworld.official@gmail.com  Aug 19, 2018  Aug 19, 2018   \n",
       "2312942           ruchisono@gmail.com   Aug 1, 2016  May 05, 2021   \n",
       "2312943     yyazilimdevelop@gmail.com   Aug 9, 2019  Aug 19, 2019   \n",
       "\n",
       "        Content Rating                                     Privacy Policy  \\\n",
       "0             Everyone                 https://beniyizibyose.tk/projects/   \n",
       "1             Everyone  https://dev4phones.wordpress.com/licencia-de-uso/   \n",
       "2             Everyone  https://www.vietnamairlines.com/vn/en/terms-an...   \n",
       "3             Everyone                                                NaN   \n",
       "4             Everyone                        http://www.horodyski.com.pl   \n",
       "...                ...                                                ...   \n",
       "2312939           Teen             http://a.4399sy.com.hk/user/aggreement   \n",
       "2312940       Everyone    http://www.oru.edu/about-oru/privacy-policy.php   \n",
       "2312941       Everyone  https://appoworld.000webhostapp.com/datastruct...   \n",
       "2312942       Everyone  https://docs.google.com/document/d/1x-9reZuLRX...   \n",
       "2312943       Everyone  https://biliyor-musun-sons.flycricket.io/priva...   \n",
       "\n",
       "         Ad Supported  In App Purchases  Editors Choice         Scraped Time  \n",
       "0               False             False           False  2021-06-15 20:19:35  \n",
       "1                True             False           False  2021-06-15 20:19:35  \n",
       "2               False             False           False  2021-06-15 20:19:35  \n",
       "3                True             False           False  2021-06-15 20:19:35  \n",
       "4               False             False           False  2021-06-15 20:19:35  \n",
       "...               ...               ...             ...                  ...  \n",
       "2312939         False             False           False  2021-06-16 12:59:18  \n",
       "2312940         False             False           False  2021-06-16 12:59:19  \n",
       "2312941         False             False           False  2021-06-16 12:59:19  \n",
       "2312942          True             False           False  2021-06-16 12:59:19  \n",
       "2312943          True             False           False  2021-06-16 12:59:19  \n",
       "\n",
       "[2312944 rows x 24 columns]"
      ]
     },
     "execution_count": 5,
     "metadata": {},
     "output_type": "execute_result"
    }
   ],
   "source": [
    "df"
   ]
  },
  {
   "cell_type": "markdown",
   "metadata": {},
   "source": [
    "### We start by dropping the columns which are not needed for our analysis"
   ]
  },
  {
   "cell_type": "code",
   "execution_count": 6,
   "metadata": {
    "scrolled": false
   },
   "outputs": [
    {
     "data": {
      "text/plain": [
       "Index(['App Name', 'App Id', 'Category', 'Rating', 'Rating Count', 'Installs',\n",
       "       'Minimum Installs', 'Maximum Installs', 'Free', 'Price', 'Currency',\n",
       "       'Size', 'Minimum Android', 'Developer Id', 'Developer Website',\n",
       "       'Developer Email', 'Released', 'Last Updated', 'Content Rating',\n",
       "       'Privacy Policy', 'Ad Supported', 'In App Purchases', 'Editors Choice',\n",
       "       'Scraped Time'],\n",
       "      dtype='object')"
      ]
     },
     "execution_count": 6,
     "metadata": {},
     "output_type": "execute_result"
    }
   ],
   "source": [
    "df.columns"
   ]
  },
  {
   "cell_type": "code",
   "execution_count": 7,
   "metadata": {},
   "outputs": [],
   "source": [
    "df.drop(['App Id','Developer Website',\n",
    "       'Developer Email','Privacy Policy'],axis=1,inplace=True)"
   ]
  },
  {
   "cell_type": "code",
   "execution_count": 8,
   "metadata": {},
   "outputs": [
    {
     "name": "stdout",
     "output_type": "stream",
     "text": [
      "<class 'pandas.core.frame.DataFrame'>\n",
      "Int64Index: 2312944 entries, 0 to 2312943\n",
      "Data columns (total 20 columns):\n",
      " #   Column            Dtype  \n",
      "---  ------            -----  \n",
      " 0   App Name          object \n",
      " 1   Category          object \n",
      " 2   Rating            float64\n",
      " 3   Rating Count      float64\n",
      " 4   Installs          object \n",
      " 5   Minimum Installs  float64\n",
      " 6   Maximum Installs  int64  \n",
      " 7   Free              bool   \n",
      " 8   Price             float64\n",
      " 9   Currency          object \n",
      " 10  Size              object \n",
      " 11  Minimum Android   object \n",
      " 12  Developer Id      object \n",
      " 13  Released          object \n",
      " 14  Last Updated      object \n",
      " 15  Content Rating    object \n",
      " 16  Ad Supported      bool   \n",
      " 17  In App Purchases  bool   \n",
      " 18  Editors Choice    bool   \n",
      " 19  Scraped Time      object \n",
      "dtypes: bool(4), float64(4), int64(1), object(11)\n",
      "memory usage: 308.8+ MB\n"
     ]
    }
   ],
   "source": [
    "df.info()"
   ]
  },
  {
   "cell_type": "markdown",
   "metadata": {},
   "source": [
    "### There are 2 rows without the App names. We discard those rows."
   ]
  },
  {
   "cell_type": "code",
   "execution_count": 9,
   "metadata": {},
   "outputs": [
    {
     "data": {
      "text/html": [
       "<div>\n",
       "<style scoped>\n",
       "    .dataframe tbody tr th:only-of-type {\n",
       "        vertical-align: middle;\n",
       "    }\n",
       "\n",
       "    .dataframe tbody tr th {\n",
       "        vertical-align: top;\n",
       "    }\n",
       "\n",
       "    .dataframe thead th {\n",
       "        text-align: right;\n",
       "    }\n",
       "</style>\n",
       "<table border=\"1\" class=\"dataframe\">\n",
       "  <thead>\n",
       "    <tr style=\"text-align: right;\">\n",
       "      <th></th>\n",
       "      <th>App Name</th>\n",
       "      <th>Category</th>\n",
       "      <th>Rating</th>\n",
       "      <th>Rating Count</th>\n",
       "      <th>Installs</th>\n",
       "      <th>Minimum Installs</th>\n",
       "      <th>Maximum Installs</th>\n",
       "      <th>Free</th>\n",
       "      <th>Price</th>\n",
       "      <th>Currency</th>\n",
       "      <th>Size</th>\n",
       "      <th>Minimum Android</th>\n",
       "      <th>Developer Id</th>\n",
       "      <th>Released</th>\n",
       "      <th>Last Updated</th>\n",
       "      <th>Content Rating</th>\n",
       "      <th>Ad Supported</th>\n",
       "      <th>In App Purchases</th>\n",
       "      <th>Editors Choice</th>\n",
       "      <th>Scraped Time</th>\n",
       "    </tr>\n",
       "  </thead>\n",
       "  <tbody>\n",
       "    <tr>\n",
       "      <th>45686</th>\n",
       "      <td>NaN</td>\n",
       "      <td>News &amp; Magazines</td>\n",
       "      <td>2.4</td>\n",
       "      <td>470.0</td>\n",
       "      <td>50,000+</td>\n",
       "      <td>50000.0</td>\n",
       "      <td>84097</td>\n",
       "      <td>True</td>\n",
       "      <td>0.0</td>\n",
       "      <td>USD</td>\n",
       "      <td>27M</td>\n",
       "      <td>4.1 and up</td>\n",
       "      <td>Bonnier News Local AB</td>\n",
       "      <td>Aug 8, 2011</td>\n",
       "      <td>Dec 21, 2020</td>\n",
       "      <td>Everyone</td>\n",
       "      <td>True</td>\n",
       "      <td>False</td>\n",
       "      <td>False</td>\n",
       "      <td>2021-06-15 21:04:54</td>\n",
       "    </tr>\n",
       "    <tr>\n",
       "      <th>246294</th>\n",
       "      <td>NaN</td>\n",
       "      <td>Tools</td>\n",
       "      <td>2.5</td>\n",
       "      <td>2028.0</td>\n",
       "      <td>50,000+</td>\n",
       "      <td>50000.0</td>\n",
       "      <td>95616</td>\n",
       "      <td>True</td>\n",
       "      <td>0.0</td>\n",
       "      <td>USD</td>\n",
       "      <td>2.1M</td>\n",
       "      <td>4.0 and up</td>\n",
       "      <td>Hardbot</td>\n",
       "      <td>Oct 31, 2017</td>\n",
       "      <td>Oct 31, 2017</td>\n",
       "      <td>Everyone</td>\n",
       "      <td>False</td>\n",
       "      <td>False</td>\n",
       "      <td>False</td>\n",
       "      <td>2021-06-16 00:34:08</td>\n",
       "    </tr>\n",
       "    <tr>\n",
       "      <th>296163</th>\n",
       "      <td>NaN</td>\n",
       "      <td>Social</td>\n",
       "      <td>0.0</td>\n",
       "      <td>0.0</td>\n",
       "      <td>1,000+</td>\n",
       "      <td>1000.0</td>\n",
       "      <td>2016</td>\n",
       "      <td>True</td>\n",
       "      <td>0.0</td>\n",
       "      <td>USD</td>\n",
       "      <td>11M</td>\n",
       "      <td>4.1 and up</td>\n",
       "      <td>appnone</td>\n",
       "      <td>Jul 22, 2019</td>\n",
       "      <td>Nov 29, 2019</td>\n",
       "      <td>Teen</td>\n",
       "      <td>False</td>\n",
       "      <td>False</td>\n",
       "      <td>False</td>\n",
       "      <td>2021-06-16 01:24:52</td>\n",
       "    </tr>\n",
       "    <tr>\n",
       "      <th>910500</th>\n",
       "      <td>NaN</td>\n",
       "      <td>Tools</td>\n",
       "      <td>0.0</td>\n",
       "      <td>0.0</td>\n",
       "      <td>100+</td>\n",
       "      <td>100.0</td>\n",
       "      <td>136</td>\n",
       "      <td>True</td>\n",
       "      <td>0.0</td>\n",
       "      <td>USD</td>\n",
       "      <td>13M</td>\n",
       "      <td>4.1 and up</td>\n",
       "      <td>VideoMaker Pro</td>\n",
       "      <td>Apr 10, 2020</td>\n",
       "      <td>Apr 10, 2020</td>\n",
       "      <td>Everyone</td>\n",
       "      <td>True</td>\n",
       "      <td>False</td>\n",
       "      <td>False</td>\n",
       "      <td>2021-06-16 10:55:14</td>\n",
       "    </tr>\n",
       "    <tr>\n",
       "      <th>1226953</th>\n",
       "      <td>NaN</td>\n",
       "      <td>Entertainment</td>\n",
       "      <td>4.6</td>\n",
       "      <td>11.0</td>\n",
       "      <td>100+</td>\n",
       "      <td>100.0</td>\n",
       "      <td>351</td>\n",
       "      <td>True</td>\n",
       "      <td>0.0</td>\n",
       "      <td>USD</td>\n",
       "      <td>1.9M</td>\n",
       "      <td>4.1 and up</td>\n",
       "      <td>Ibrahim Tornado</td>\n",
       "      <td>Mar 22, 2019</td>\n",
       "      <td>Mar 23, 2019</td>\n",
       "      <td>Everyone</td>\n",
       "      <td>True</td>\n",
       "      <td>False</td>\n",
       "      <td>False</td>\n",
       "      <td>2021-06-15 21:05:32</td>\n",
       "    </tr>\n",
       "    <tr>\n",
       "      <th>1712582</th>\n",
       "      <td>NaN</td>\n",
       "      <td>Entertainment</td>\n",
       "      <td>4.1</td>\n",
       "      <td>40.0</td>\n",
       "      <td>1,000+</td>\n",
       "      <td>1000.0</td>\n",
       "      <td>2406</td>\n",
       "      <td>True</td>\n",
       "      <td>0.0</td>\n",
       "      <td>USD</td>\n",
       "      <td>216k</td>\n",
       "      <td>3.0 and up</td>\n",
       "      <td>TLUTech</td>\n",
       "      <td>Oct 6, 2014</td>\n",
       "      <td>Oct 06, 2014</td>\n",
       "      <td>Everyone</td>\n",
       "      <td>False</td>\n",
       "      <td>False</td>\n",
       "      <td>False</td>\n",
       "      <td>2021-06-16 04:21:25</td>\n",
       "    </tr>\n",
       "    <tr>\n",
       "      <th>1924265</th>\n",
       "      <td>NaN</td>\n",
       "      <td>Arcade</td>\n",
       "      <td>4.6</td>\n",
       "      <td>5.0</td>\n",
       "      <td>10+</td>\n",
       "      <td>10.0</td>\n",
       "      <td>27</td>\n",
       "      <td>True</td>\n",
       "      <td>0.0</td>\n",
       "      <td>USD</td>\n",
       "      <td>22M</td>\n",
       "      <td>4.1 and up</td>\n",
       "      <td>DNGames</td>\n",
       "      <td>Dec 30, 2019</td>\n",
       "      <td>Jan 06, 2020</td>\n",
       "      <td>Everyone</td>\n",
       "      <td>True</td>\n",
       "      <td>False</td>\n",
       "      <td>False</td>\n",
       "      <td>2021-06-16 07:19:47</td>\n",
       "    </tr>\n",
       "    <tr>\n",
       "      <th>2117918</th>\n",
       "      <td>NaN</td>\n",
       "      <td>Arcade</td>\n",
       "      <td>4.3</td>\n",
       "      <td>6.0</td>\n",
       "      <td>50+</td>\n",
       "      <td>50.0</td>\n",
       "      <td>98</td>\n",
       "      <td>True</td>\n",
       "      <td>0.0</td>\n",
       "      <td>USD</td>\n",
       "      <td>10M</td>\n",
       "      <td>4.4 and up</td>\n",
       "      <td>Tomkii</td>\n",
       "      <td>Mar 17, 2021</td>\n",
       "      <td>Mar 17, 2021</td>\n",
       "      <td>Everyone</td>\n",
       "      <td>True</td>\n",
       "      <td>False</td>\n",
       "      <td>False</td>\n",
       "      <td>2021-06-16 10:09:12</td>\n",
       "    </tr>\n",
       "  </tbody>\n",
       "</table>\n",
       "</div>"
      ],
      "text/plain": [
       "        App Name          Category  Rating  Rating Count Installs  \\\n",
       "45686        NaN  News & Magazines     2.4         470.0  50,000+   \n",
       "246294       NaN             Tools     2.5        2028.0  50,000+   \n",
       "296163       NaN            Social     0.0           0.0   1,000+   \n",
       "910500       NaN             Tools     0.0           0.0     100+   \n",
       "1226953      NaN     Entertainment     4.6          11.0     100+   \n",
       "1712582      NaN     Entertainment     4.1          40.0   1,000+   \n",
       "1924265      NaN            Arcade     4.6           5.0      10+   \n",
       "2117918      NaN            Arcade     4.3           6.0      50+   \n",
       "\n",
       "         Minimum Installs  Maximum Installs  Free  Price Currency  Size  \\\n",
       "45686             50000.0             84097  True    0.0      USD   27M   \n",
       "246294            50000.0             95616  True    0.0      USD  2.1M   \n",
       "296163             1000.0              2016  True    0.0      USD   11M   \n",
       "910500              100.0               136  True    0.0      USD   13M   \n",
       "1226953             100.0               351  True    0.0      USD  1.9M   \n",
       "1712582            1000.0              2406  True    0.0      USD  216k   \n",
       "1924265              10.0                27  True    0.0      USD   22M   \n",
       "2117918              50.0                98  True    0.0      USD   10M   \n",
       "\n",
       "        Minimum Android           Developer Id      Released  Last Updated  \\\n",
       "45686        4.1 and up  Bonnier News Local AB   Aug 8, 2011  Dec 21, 2020   \n",
       "246294       4.0 and up                Hardbot  Oct 31, 2017  Oct 31, 2017   \n",
       "296163       4.1 and up                appnone  Jul 22, 2019  Nov 29, 2019   \n",
       "910500       4.1 and up         VideoMaker Pro  Apr 10, 2020  Apr 10, 2020   \n",
       "1226953      4.1 and up        Ibrahim Tornado  Mar 22, 2019  Mar 23, 2019   \n",
       "1712582      3.0 and up                TLUTech   Oct 6, 2014  Oct 06, 2014   \n",
       "1924265      4.1 and up                DNGames  Dec 30, 2019  Jan 06, 2020   \n",
       "2117918      4.4 and up                 Tomkii  Mar 17, 2021  Mar 17, 2021   \n",
       "\n",
       "        Content Rating  Ad Supported  In App Purchases  Editors Choice  \\\n",
       "45686         Everyone          True             False           False   \n",
       "246294        Everyone         False             False           False   \n",
       "296163            Teen         False             False           False   \n",
       "910500        Everyone          True             False           False   \n",
       "1226953       Everyone          True             False           False   \n",
       "1712582       Everyone         False             False           False   \n",
       "1924265       Everyone          True             False           False   \n",
       "2117918       Everyone          True             False           False   \n",
       "\n",
       "                Scraped Time  \n",
       "45686    2021-06-15 21:04:54  \n",
       "246294   2021-06-16 00:34:08  \n",
       "296163   2021-06-16 01:24:52  \n",
       "910500   2021-06-16 10:55:14  \n",
       "1226953  2021-06-15 21:05:32  \n",
       "1712582  2021-06-16 04:21:25  \n",
       "1924265  2021-06-16 07:19:47  \n",
       "2117918  2021-06-16 10:09:12  "
      ]
     },
     "execution_count": 9,
     "metadata": {},
     "output_type": "execute_result"
    }
   ],
   "source": [
    "df[df[\"App Name\"].isnull()]"
   ]
  },
  {
   "cell_type": "code",
   "execution_count": 10,
   "metadata": {},
   "outputs": [],
   "source": [
    "df.drop(df[df[\"App Name\"].isnull()].index,inplace=True)"
   ]
  },
  {
   "cell_type": "markdown",
   "metadata": {},
   "source": [
    "### We cleaned the rating and rating count columns by setting rating count as nan to those rows that don't have  any rating. "
   ]
  },
  {
   "cell_type": "code",
   "execution_count": 11,
   "metadata": {},
   "outputs": [
    {
     "data": {
      "text/plain": [
       "2290053"
      ]
     },
     "execution_count": 11,
     "metadata": {},
     "output_type": "execute_result"
    }
   ],
   "source": [
    "len(df[df[\"Rating\"].astype(str).str.fullmatch(\"(\\d+\\.\\d+|\\d+)\")])"
   ]
  },
  {
   "cell_type": "code",
   "execution_count": 12,
   "metadata": {},
   "outputs": [
    {
     "data": {
      "text/plain": [
       "22883"
      ]
     },
     "execution_count": 12,
     "metadata": {},
     "output_type": "execute_result"
    }
   ],
   "source": [
    "len(df[df[\"Rating\"].isnull()])"
   ]
  },
  {
   "cell_type": "code",
   "execution_count": 13,
   "metadata": {},
   "outputs": [],
   "source": [
    "df[\"Rating\"]=df[\"Rating\"].astype(float,errors=\"ignore\")\n",
    "df[\"Rating Count\"]=df[\"Rating Count\"].astype(int,errors=\"ignore\")"
   ]
  },
  {
   "cell_type": "code",
   "execution_count": 14,
   "metadata": {},
   "outputs": [],
   "source": [
    "df.loc[(df[\"Rating\"]==0)&(df[\"Rating Count\"]==0),[\"Rating\",\"Rating Count\"]]=np.nan      # Setting nan to those columns that has no rating and no rating count\n",
    "df.loc[df[\"Rating\"].isnull(),\"Rating Count\"]=np.nan"
   ]
  },
  {
   "cell_type": "markdown",
   "metadata": {},
   "source": [
    "### We don't needs installs and minimun installs columns. Only maximum installs would suffice for us. Also, that column is already clean so, it will save us some time :)"
   ]
  },
  {
   "cell_type": "code",
   "execution_count": 15,
   "metadata": {},
   "outputs": [],
   "source": [
    "df.drop(['Installs','Minimum Installs'],axis=1,inplace=True)"
   ]
  },
  {
   "cell_type": "code",
   "execution_count": 16,
   "metadata": {
    "scrolled": true
   },
   "outputs": [
    {
     "data": {
      "text/plain": [
       "0"
      ]
     },
     "execution_count": 16,
     "metadata": {},
     "output_type": "execute_result"
    }
   ],
   "source": [
    "df[\"Maximum Installs\"].isnull().sum()"
   ]
  },
  {
   "cell_type": "code",
   "execution_count": 17,
   "metadata": {},
   "outputs": [
    {
     "data": {
      "text/plain": [
       "2312936"
      ]
     },
     "execution_count": 17,
     "metadata": {},
     "output_type": "execute_result"
    }
   ],
   "source": [
    "df[\"Maximum Installs\"].astype(str).str.fullmatch(\"[0-9]+\").sum()"
   ]
  },
  {
   "cell_type": "markdown",
   "metadata": {},
   "source": [
    "### Converted the currency to USD and the size to mb."
   ]
  },
  {
   "cell_type": "code",
   "execution_count": 18,
   "metadata": {},
   "outputs": [],
   "source": [
    "df.loc[df[\"Currency\"]!=\"USD\",[\"Currency\",\"Price\"]]=np.nan\n",
    "df.rename(columns={\"Price\":\"Price(in USD)\"},inplace=True)\n",
    "df.drop(\"Currency\",axis=1,inplace=True)"
   ]
  },
  {
   "cell_type": "code",
   "execution_count": 19,
   "metadata": {},
   "outputs": [
    {
     "name": "stdout",
     "output_type": "stream",
     "text": [
      "Wall time: 8.31 s\n"
     ]
    }
   ],
   "source": [
    "%%time\n",
    "df.loc[(df[\"Size\"].str.endswith(\"k\",na=False)),\"Size\"]=(df.loc[(df[\"Size\"].str.endswith(\"k\",na=False)),\"Size\"].str.strip(\"k\")).str.replace(\",\",\"\").astype(float)/1000\n",
    "df.loc[(df[\"Size\"].str.endswith(\"M\",na=False)),\"Size\"]=(df.loc[(df[\"Size\"].str.endswith(\"M\",na=False)),\"Size\"].str.strip(\"M\")).str.replace(\",\",\"\").astype(float)\n",
    "df.loc[(df[\"Size\"].str.endswith(\"G\",na=False)),\"Size\"]=(df.loc[(df[\"Size\"].str.endswith(\"G\",na=False)),\"Size\"].str.strip(\"G\")).str.replace(\",\",\"\").astype(float)*1000\n"
   ]
  },
  {
   "cell_type": "code",
   "execution_count": 20,
   "metadata": {},
   "outputs": [],
   "source": [
    "df[\"Size\"]=df[\"Size\"].astype(str).replace(\"Varies with device\",np.nan)\n",
    "df[\"Size\"]=df[\"Size\"].astype(str).replace(\"nan\",np.nan)"
   ]
  },
  {
   "cell_type": "code",
   "execution_count": 21,
   "metadata": {},
   "outputs": [],
   "source": [
    "df.rename(columns={\"Size\":\"Size(in mb)\"},inplace=True)"
   ]
  },
  {
   "cell_type": "code",
   "execution_count": 22,
   "metadata": {},
   "outputs": [],
   "source": [
    "#df[df[\"Minimum Android\"].str.contains(\"and up\",na=False)]"
   ]
  },
  {
   "cell_type": "code",
   "execution_count": 23,
   "metadata": {
    "scrolled": false
   },
   "outputs": [],
   "source": [
    "#df.loc[df[\"Minimum Android\"].str.contains(\"Varies with device\",na=False)]"
   ]
  },
  {
   "cell_type": "code",
   "execution_count": 24,
   "metadata": {},
   "outputs": [],
   "source": [
    "#df[df[\"Minimum Android\"].str.fullmatch(\"[0-9.]+\",na=False)]"
   ]
  },
  {
   "cell_type": "code",
   "execution_count": 25,
   "metadata": {
    "scrolled": false
   },
   "outputs": [],
   "source": [
    "#df[df[\"Minimum Android\"].isnull()]"
   ]
  },
  {
   "cell_type": "code",
   "execution_count": 26,
   "metadata": {
    "scrolled": false
   },
   "outputs": [],
   "source": [
    "#df[(df[\"Minimum Android\"].str.contains(\"-\",na=False))]"
   ]
  },
  {
   "cell_type": "code",
   "execution_count": 27,
   "metadata": {},
   "outputs": [],
   "source": [
    "df.loc[df[\"Minimum Android\"].str.contains(\"and up\",na=False),\"Minimum Android\"]=df.loc[df[\"Minimum Android\"].str.contains(\"and up\",na=False),\"Minimum Android\"].str.strip(\"and up\")"
   ]
  },
  {
   "cell_type": "code",
   "execution_count": 28,
   "metadata": {},
   "outputs": [],
   "source": [
    "df.loc[df[\"Minimum Android\"].str.contains(\"Varies with device\",na=False),\"Minimum Android\"]=np.nan"
   ]
  },
  {
   "cell_type": "code",
   "execution_count": 29,
   "metadata": {},
   "outputs": [],
   "source": [
    "df.loc[(df[\"Minimum Android\"].str.contains(\"-\",na=False)),\"Minimum Android\"]=np.nan"
   ]
  },
  {
   "cell_type": "code",
   "execution_count": 30,
   "metadata": {},
   "outputs": [
    {
     "data": {
      "text/plain": [
       "442        4.4W\n",
       "457        4.4W\n",
       "1002       4.4W\n",
       "1078       4.4W\n",
       "1141       4.4W\n",
       "           ... \n",
       "2311307    4.4W\n",
       "2311726    4.4W\n",
       "2312147    4.4W\n",
       "2312416    4.4W\n",
       "2312692    4.4W\n",
       "Name: Minimum Android, Length: 12527, dtype: object"
      ]
     },
     "execution_count": 30,
     "metadata": {},
     "output_type": "execute_result"
    }
   ],
   "source": [
    "df[~(df[\"Minimum Android\"].isnull())&~(df[\"Minimum Android\"].str.fullmatch(\"[0-9.]+\",na=False))][\"Minimum Android\"]"
   ]
  },
  {
   "cell_type": "code",
   "execution_count": 31,
   "metadata": {},
   "outputs": [],
   "source": [
    "df.loc[df[\"Minimum Android\"].str.contains(\"W\",na=False),\"Minimum Android\"]=np.nan    # Wearable android version"
   ]
  },
  {
   "cell_type": "code",
   "execution_count": 32,
   "metadata": {},
   "outputs": [],
   "source": [
    "df[\"Minimum Android\"]=df[\"Minimum Android\"].astype(\"str\")"
   ]
  },
  {
   "cell_type": "markdown",
   "metadata": {},
   "source": [
    "### Converting Released, Last Updated and Scraped Time columns to correct date formats."
   ]
  },
  {
   "cell_type": "code",
   "execution_count": 33,
   "metadata": {},
   "outputs": [
    {
     "data": {
      "text/plain": [
       "2241883"
      ]
     },
     "execution_count": 33,
     "metadata": {},
     "output_type": "execute_result"
    }
   ],
   "source": [
    "df[\"Released\"].notnull().sum()"
   ]
  },
  {
   "cell_type": "code",
   "execution_count": 34,
   "metadata": {},
   "outputs": [
    {
     "data": {
      "text/plain": [
       "71053"
      ]
     },
     "execution_count": 34,
     "metadata": {},
     "output_type": "execute_result"
    }
   ],
   "source": [
    "df[\"Released\"].isnull().sum()"
   ]
  },
  {
   "cell_type": "code",
   "execution_count": 35,
   "metadata": {},
   "outputs": [],
   "source": [
    "df.loc[df[\"Released\"].notnull(),\"Released\"]=pd.to_datetime(df.loc[df[\"Released\"].notnull(),\"Released\"],format=\"%b %d, %Y\",errors=\"coerce\").dt.date"
   ]
  },
  {
   "cell_type": "code",
   "execution_count": 36,
   "metadata": {},
   "outputs": [
    {
     "data": {
      "text/plain": [
       "0"
      ]
     },
     "execution_count": 36,
     "metadata": {},
     "output_type": "execute_result"
    }
   ],
   "source": [
    "df[\"Last Updated\"].isnull().sum()"
   ]
  },
  {
   "cell_type": "code",
   "execution_count": 37,
   "metadata": {},
   "outputs": [],
   "source": [
    "df.loc[df[\"Last Updated\"].notnull(),\"Last Updated\"]=pd.to_datetime(df.loc[df[\"Last Updated\"].notnull(),\"Last Updated\"],format=\"%b %d, %Y\",errors=\"coerce\")"
   ]
  },
  {
   "cell_type": "code",
   "execution_count": 38,
   "metadata": {},
   "outputs": [
    {
     "data": {
      "text/plain": [
       "0"
      ]
     },
     "execution_count": 38,
     "metadata": {},
     "output_type": "execute_result"
    }
   ],
   "source": [
    "df[\"Scraped Time\"].isnull().sum()"
   ]
  },
  {
   "cell_type": "code",
   "execution_count": 39,
   "metadata": {},
   "outputs": [],
   "source": [
    "df[\"Scraped Time\"]=pd.to_datetime(df[\"Scraped Time\"]).dt.date"
   ]
  },
  {
   "cell_type": "code",
   "execution_count": 40,
   "metadata": {},
   "outputs": [
    {
     "data": {
      "text/html": [
       "<div>\n",
       "<style scoped>\n",
       "    .dataframe tbody tr th:only-of-type {\n",
       "        vertical-align: middle;\n",
       "    }\n",
       "\n",
       "    .dataframe tbody tr th {\n",
       "        vertical-align: top;\n",
       "    }\n",
       "\n",
       "    .dataframe thead th {\n",
       "        text-align: right;\n",
       "    }\n",
       "</style>\n",
       "<table border=\"1\" class=\"dataframe\">\n",
       "  <thead>\n",
       "    <tr style=\"text-align: right;\">\n",
       "      <th></th>\n",
       "      <th>App Name</th>\n",
       "      <th>Category</th>\n",
       "      <th>Rating</th>\n",
       "      <th>Rating Count</th>\n",
       "      <th>Maximum Installs</th>\n",
       "      <th>Free</th>\n",
       "      <th>Price(in USD)</th>\n",
       "      <th>Size(in mb)</th>\n",
       "      <th>Minimum Android</th>\n",
       "      <th>Developer Id</th>\n",
       "      <th>Released</th>\n",
       "      <th>Last Updated</th>\n",
       "      <th>Content Rating</th>\n",
       "      <th>Ad Supported</th>\n",
       "      <th>In App Purchases</th>\n",
       "      <th>Editors Choice</th>\n",
       "      <th>Scraped Time</th>\n",
       "    </tr>\n",
       "  </thead>\n",
       "  <tbody>\n",
       "    <tr>\n",
       "      <th>0</th>\n",
       "      <td>Gakondo</td>\n",
       "      <td>Adventure</td>\n",
       "      <td>NaN</td>\n",
       "      <td>NaN</td>\n",
       "      <td>15</td>\n",
       "      <td>True</td>\n",
       "      <td>0.0</td>\n",
       "      <td>10.0</td>\n",
       "      <td>7.1</td>\n",
       "      <td>Jean Confident Irénée NIYIZIBYOSE</td>\n",
       "      <td>2020-02-26</td>\n",
       "      <td>2020-02-26</td>\n",
       "      <td>Everyone</td>\n",
       "      <td>False</td>\n",
       "      <td>False</td>\n",
       "      <td>False</td>\n",
       "      <td>2021-06-15</td>\n",
       "    </tr>\n",
       "    <tr>\n",
       "      <th>1</th>\n",
       "      <td>Ampere Battery Info</td>\n",
       "      <td>Tools</td>\n",
       "      <td>4.4</td>\n",
       "      <td>64.0</td>\n",
       "      <td>7662</td>\n",
       "      <td>True</td>\n",
       "      <td>0.0</td>\n",
       "      <td>2.9</td>\n",
       "      <td>5.0</td>\n",
       "      <td>Webserveis</td>\n",
       "      <td>2020-05-21</td>\n",
       "      <td>2021-05-06</td>\n",
       "      <td>Everyone</td>\n",
       "      <td>True</td>\n",
       "      <td>False</td>\n",
       "      <td>False</td>\n",
       "      <td>2021-06-15</td>\n",
       "    </tr>\n",
       "    <tr>\n",
       "      <th>2</th>\n",
       "      <td>Vibook</td>\n",
       "      <td>Productivity</td>\n",
       "      <td>NaN</td>\n",
       "      <td>NaN</td>\n",
       "      <td>58</td>\n",
       "      <td>True</td>\n",
       "      <td>0.0</td>\n",
       "      <td>3.7</td>\n",
       "      <td>4.0.3</td>\n",
       "      <td>Cabin Crew</td>\n",
       "      <td>2019-08-09</td>\n",
       "      <td>2019-08-19</td>\n",
       "      <td>Everyone</td>\n",
       "      <td>False</td>\n",
       "      <td>False</td>\n",
       "      <td>False</td>\n",
       "      <td>2021-06-15</td>\n",
       "    </tr>\n",
       "    <tr>\n",
       "      <th>3</th>\n",
       "      <td>Smart City Trichy Public Service Vehicles 17UC...</td>\n",
       "      <td>Communication</td>\n",
       "      <td>5.0</td>\n",
       "      <td>5.0</td>\n",
       "      <td>19</td>\n",
       "      <td>True</td>\n",
       "      <td>0.0</td>\n",
       "      <td>1.8</td>\n",
       "      <td>4.0.3</td>\n",
       "      <td>Climate Smart Tech2</td>\n",
       "      <td>2018-09-10</td>\n",
       "      <td>2018-10-13</td>\n",
       "      <td>Everyone</td>\n",
       "      <td>True</td>\n",
       "      <td>False</td>\n",
       "      <td>False</td>\n",
       "      <td>2021-06-15</td>\n",
       "    </tr>\n",
       "    <tr>\n",
       "      <th>4</th>\n",
       "      <td>GROW.me</td>\n",
       "      <td>Tools</td>\n",
       "      <td>NaN</td>\n",
       "      <td>NaN</td>\n",
       "      <td>478</td>\n",
       "      <td>True</td>\n",
       "      <td>0.0</td>\n",
       "      <td>6.2</td>\n",
       "      <td>4.1</td>\n",
       "      <td>Rafal Milek-Horodyski</td>\n",
       "      <td>2020-02-21</td>\n",
       "      <td>2018-11-12</td>\n",
       "      <td>Everyone</td>\n",
       "      <td>False</td>\n",
       "      <td>False</td>\n",
       "      <td>False</td>\n",
       "      <td>2021-06-15</td>\n",
       "    </tr>\n",
       "    <tr>\n",
       "      <th>...</th>\n",
       "      <td>...</td>\n",
       "      <td>...</td>\n",
       "      <td>...</td>\n",
       "      <td>...</td>\n",
       "      <td>...</td>\n",
       "      <td>...</td>\n",
       "      <td>...</td>\n",
       "      <td>...</td>\n",
       "      <td>...</td>\n",
       "      <td>...</td>\n",
       "      <td>...</td>\n",
       "      <td>...</td>\n",
       "      <td>...</td>\n",
       "      <td>...</td>\n",
       "      <td>...</td>\n",
       "      <td>...</td>\n",
       "      <td>...</td>\n",
       "    </tr>\n",
       "    <tr>\n",
       "      <th>2312939</th>\n",
       "      <td>大俠客—熱血歸來</td>\n",
       "      <td>Role Playing</td>\n",
       "      <td>4.3</td>\n",
       "      <td>16775.0</td>\n",
       "      <td>337109</td>\n",
       "      <td>True</td>\n",
       "      <td>0.0</td>\n",
       "      <td>77.0</td>\n",
       "      <td>4.1</td>\n",
       "      <td>ALICE GAME</td>\n",
       "      <td>NaN</td>\n",
       "      <td>2021-06-01</td>\n",
       "      <td>Teen</td>\n",
       "      <td>False</td>\n",
       "      <td>False</td>\n",
       "      <td>False</td>\n",
       "      <td>2021-06-16</td>\n",
       "    </tr>\n",
       "    <tr>\n",
       "      <th>2312940</th>\n",
       "      <td>ORU Online</td>\n",
       "      <td>Education</td>\n",
       "      <td>NaN</td>\n",
       "      <td>NaN</td>\n",
       "      <td>430</td>\n",
       "      <td>True</td>\n",
       "      <td>0.0</td>\n",
       "      <td>44.0</td>\n",
       "      <td>4.1</td>\n",
       "      <td>3Dream Studios, LLC</td>\n",
       "      <td>2018-01-17</td>\n",
       "      <td>2018-02-02</td>\n",
       "      <td>Everyone</td>\n",
       "      <td>False</td>\n",
       "      <td>False</td>\n",
       "      <td>False</td>\n",
       "      <td>2021-06-16</td>\n",
       "    </tr>\n",
       "    <tr>\n",
       "      <th>2312941</th>\n",
       "      <td>Data Structure</td>\n",
       "      <td>Education</td>\n",
       "      <td>NaN</td>\n",
       "      <td>NaN</td>\n",
       "      <td>202</td>\n",
       "      <td>True</td>\n",
       "      <td>0.0</td>\n",
       "      <td>29.0</td>\n",
       "      <td>5.0</td>\n",
       "      <td>appoworld</td>\n",
       "      <td>2018-08-19</td>\n",
       "      <td>2018-08-19</td>\n",
       "      <td>Everyone</td>\n",
       "      <td>False</td>\n",
       "      <td>False</td>\n",
       "      <td>False</td>\n",
       "      <td>2021-06-16</td>\n",
       "    </tr>\n",
       "    <tr>\n",
       "      <th>2312942</th>\n",
       "      <td>Devi Suktam</td>\n",
       "      <td>Music &amp; Audio</td>\n",
       "      <td>3.5</td>\n",
       "      <td>8.0</td>\n",
       "      <td>2635</td>\n",
       "      <td>True</td>\n",
       "      <td>0.0</td>\n",
       "      <td>10.0</td>\n",
       "      <td>5.0</td>\n",
       "      <td>Bhakti</td>\n",
       "      <td>2016-08-01</td>\n",
       "      <td>2021-05-05</td>\n",
       "      <td>Everyone</td>\n",
       "      <td>True</td>\n",
       "      <td>False</td>\n",
       "      <td>False</td>\n",
       "      <td>2021-06-16</td>\n",
       "    </tr>\n",
       "    <tr>\n",
       "      <th>2312943</th>\n",
       "      <td>Biliyor Musun - Sonsuz Yarış</td>\n",
       "      <td>Trivia</td>\n",
       "      <td>5.0</td>\n",
       "      <td>12.0</td>\n",
       "      <td>354</td>\n",
       "      <td>True</td>\n",
       "      <td>0.0</td>\n",
       "      <td>5.2</td>\n",
       "      <td>5.0</td>\n",
       "      <td>Y Yazılım</td>\n",
       "      <td>2019-08-09</td>\n",
       "      <td>2019-08-19</td>\n",
       "      <td>Everyone</td>\n",
       "      <td>True</td>\n",
       "      <td>False</td>\n",
       "      <td>False</td>\n",
       "      <td>2021-06-16</td>\n",
       "    </tr>\n",
       "  </tbody>\n",
       "</table>\n",
       "<p>2312936 rows × 17 columns</p>\n",
       "</div>"
      ],
      "text/plain": [
       "                                                  App Name       Category  \\\n",
       "0                                                  Gakondo      Adventure   \n",
       "1                                      Ampere Battery Info          Tools   \n",
       "2                                                   Vibook   Productivity   \n",
       "3        Smart City Trichy Public Service Vehicles 17UC...  Communication   \n",
       "4                                                  GROW.me          Tools   \n",
       "...                                                    ...            ...   \n",
       "2312939                                           大俠客—熱血歸來   Role Playing   \n",
       "2312940                                         ORU Online      Education   \n",
       "2312941                                     Data Structure      Education   \n",
       "2312942                                        Devi Suktam  Music & Audio   \n",
       "2312943                       Biliyor Musun - Sonsuz Yarış         Trivia   \n",
       "\n",
       "         Rating  Rating Count  Maximum Installs  Free  Price(in USD)  \\\n",
       "0           NaN           NaN                15  True            0.0   \n",
       "1           4.4          64.0              7662  True            0.0   \n",
       "2           NaN           NaN                58  True            0.0   \n",
       "3           5.0           5.0                19  True            0.0   \n",
       "4           NaN           NaN               478  True            0.0   \n",
       "...         ...           ...               ...   ...            ...   \n",
       "2312939     4.3       16775.0            337109  True            0.0   \n",
       "2312940     NaN           NaN               430  True            0.0   \n",
       "2312941     NaN           NaN               202  True            0.0   \n",
       "2312942     3.5           8.0              2635  True            0.0   \n",
       "2312943     5.0          12.0               354  True            0.0   \n",
       "\n",
       "        Size(in mb) Minimum Android                       Developer Id  \\\n",
       "0              10.0             7.1  Jean Confident Irénée NIYIZIBYOSE   \n",
       "1               2.9             5.0                         Webserveis   \n",
       "2               3.7           4.0.3                         Cabin Crew   \n",
       "3               1.8           4.0.3                Climate Smart Tech2   \n",
       "4               6.2             4.1              Rafal Milek-Horodyski   \n",
       "...             ...             ...                                ...   \n",
       "2312939        77.0             4.1                         ALICE GAME   \n",
       "2312940        44.0             4.1                3Dream Studios, LLC   \n",
       "2312941        29.0             5.0                          appoworld   \n",
       "2312942        10.0             5.0                             Bhakti   \n",
       "2312943         5.2             5.0                          Y Yazılım   \n",
       "\n",
       "           Released Last Updated Content Rating  Ad Supported  \\\n",
       "0        2020-02-26   2020-02-26       Everyone         False   \n",
       "1        2020-05-21   2021-05-06       Everyone          True   \n",
       "2        2019-08-09   2019-08-19       Everyone         False   \n",
       "3        2018-09-10   2018-10-13       Everyone          True   \n",
       "4        2020-02-21   2018-11-12       Everyone         False   \n",
       "...             ...          ...            ...           ...   \n",
       "2312939         NaN   2021-06-01           Teen         False   \n",
       "2312940  2018-01-17   2018-02-02       Everyone         False   \n",
       "2312941  2018-08-19   2018-08-19       Everyone         False   \n",
       "2312942  2016-08-01   2021-05-05       Everyone          True   \n",
       "2312943  2019-08-09   2019-08-19       Everyone          True   \n",
       "\n",
       "         In App Purchases  Editors Choice Scraped Time  \n",
       "0                   False           False   2021-06-15  \n",
       "1                   False           False   2021-06-15  \n",
       "2                   False           False   2021-06-15  \n",
       "3                   False           False   2021-06-15  \n",
       "4                   False           False   2021-06-15  \n",
       "...                   ...             ...          ...  \n",
       "2312939             False           False   2021-06-16  \n",
       "2312940             False           False   2021-06-16  \n",
       "2312941             False           False   2021-06-16  \n",
       "2312942             False           False   2021-06-16  \n",
       "2312943             False           False   2021-06-16  \n",
       "\n",
       "[2312936 rows x 17 columns]"
      ]
     },
     "execution_count": 40,
     "metadata": {},
     "output_type": "execute_result"
    }
   ],
   "source": [
    "df"
   ]
  },
  {
   "cell_type": "markdown",
   "metadata": {},
   "source": [
    "### Checking all remaing colums. Fortunately, all turned out to be clean and ready to analyze :)"
   ]
  },
  {
   "cell_type": "code",
   "execution_count": 41,
   "metadata": {
    "scrolled": true
   },
   "outputs": [
    {
     "data": {
      "text/plain": [
       "0"
      ]
     },
     "execution_count": 41,
     "metadata": {},
     "output_type": "execute_result"
    }
   ],
   "source": [
    "df[\"Content Rating\"].isnull().sum()"
   ]
  },
  {
   "cell_type": "code",
   "execution_count": 42,
   "metadata": {
    "scrolled": true
   },
   "outputs": [
    {
     "data": {
      "text/plain": [
       "Everyone           2022082\n",
       "Teen                196374\n",
       "Mature 17+           60289\n",
       "Everyone 10+         33901\n",
       "Unrated                154\n",
       "Adults only 18+        136\n",
       "Name: Content Rating, dtype: int64"
      ]
     },
     "execution_count": 42,
     "metadata": {},
     "output_type": "execute_result"
    }
   ],
   "source": [
    "df[\"Content Rating\"].value_counts()"
   ]
  },
  {
   "cell_type": "code",
   "execution_count": 43,
   "metadata": {},
   "outputs": [
    {
     "data": {
      "text/plain": [
       "0"
      ]
     },
     "execution_count": 43,
     "metadata": {},
     "output_type": "execute_result"
    }
   ],
   "source": [
    "df[\"Ad Supported\"].isnull().sum()"
   ]
  },
  {
   "cell_type": "code",
   "execution_count": 44,
   "metadata": {},
   "outputs": [
    {
     "data": {
      "text/plain": [
       "False    1162167\n",
       "True     1150769\n",
       "Name: Ad Supported, dtype: int64"
      ]
     },
     "execution_count": 44,
     "metadata": {},
     "output_type": "execute_result"
    }
   ],
   "source": [
    "df[\"Ad Supported\"].value_counts()"
   ]
  },
  {
   "cell_type": "code",
   "execution_count": 45,
   "metadata": {},
   "outputs": [
    {
     "data": {
      "text/plain": [
       "0"
      ]
     },
     "execution_count": 45,
     "metadata": {},
     "output_type": "execute_result"
    }
   ],
   "source": [
    "df[\"In App Purchases\"].isnull().sum()"
   ]
  },
  {
   "cell_type": "code",
   "execution_count": 46,
   "metadata": {},
   "outputs": [
    {
     "data": {
      "text/plain": [
       "False    2117627\n",
       "True      195309\n",
       "Name: In App Purchases, dtype: int64"
      ]
     },
     "execution_count": 46,
     "metadata": {},
     "output_type": "execute_result"
    }
   ],
   "source": [
    "df[\"In App Purchases\"].value_counts()"
   ]
  },
  {
   "cell_type": "code",
   "execution_count": 47,
   "metadata": {},
   "outputs": [
    {
     "data": {
      "text/plain": [
       "0"
      ]
     },
     "execution_count": 47,
     "metadata": {},
     "output_type": "execute_result"
    }
   ],
   "source": [
    "df[\"Editors Choice\"].isnull().sum()"
   ]
  },
  {
   "cell_type": "code",
   "execution_count": 48,
   "metadata": {},
   "outputs": [
    {
     "data": {
      "text/plain": [
       "False    2312083\n",
       "True         853\n",
       "Name: Editors Choice, dtype: int64"
      ]
     },
     "execution_count": 48,
     "metadata": {},
     "output_type": "execute_result"
    }
   ],
   "source": [
    "df[\"Editors Choice\"].value_counts()"
   ]
  },
  {
   "cell_type": "code",
   "execution_count": 49,
   "metadata": {},
   "outputs": [
    {
     "data": {
      "text/html": [
       "<div>\n",
       "<style scoped>\n",
       "    .dataframe tbody tr th:only-of-type {\n",
       "        vertical-align: middle;\n",
       "    }\n",
       "\n",
       "    .dataframe tbody tr th {\n",
       "        vertical-align: top;\n",
       "    }\n",
       "\n",
       "    .dataframe thead th {\n",
       "        text-align: right;\n",
       "    }\n",
       "</style>\n",
       "<table border=\"1\" class=\"dataframe\">\n",
       "  <thead>\n",
       "    <tr style=\"text-align: right;\">\n",
       "      <th></th>\n",
       "      <th>App Name</th>\n",
       "      <th>Category</th>\n",
       "      <th>Rating</th>\n",
       "      <th>Rating Count</th>\n",
       "      <th>Maximum Installs</th>\n",
       "      <th>Free</th>\n",
       "      <th>Price(in USD)</th>\n",
       "      <th>Size(in mb)</th>\n",
       "      <th>Minimum Android</th>\n",
       "      <th>Developer Id</th>\n",
       "      <th>Released</th>\n",
       "      <th>Last Updated</th>\n",
       "      <th>Content Rating</th>\n",
       "      <th>Ad Supported</th>\n",
       "      <th>In App Purchases</th>\n",
       "      <th>Editors Choice</th>\n",
       "      <th>Scraped Time</th>\n",
       "    </tr>\n",
       "  </thead>\n",
       "  <tbody>\n",
       "    <tr>\n",
       "      <th>0</th>\n",
       "      <td>Gakondo</td>\n",
       "      <td>Adventure</td>\n",
       "      <td>NaN</td>\n",
       "      <td>NaN</td>\n",
       "      <td>15</td>\n",
       "      <td>True</td>\n",
       "      <td>0.0</td>\n",
       "      <td>10.0</td>\n",
       "      <td>7.1</td>\n",
       "      <td>Jean Confident Irénée NIYIZIBYOSE</td>\n",
       "      <td>2020-02-26</td>\n",
       "      <td>2020-02-26</td>\n",
       "      <td>Everyone</td>\n",
       "      <td>False</td>\n",
       "      <td>False</td>\n",
       "      <td>False</td>\n",
       "      <td>2021-06-15</td>\n",
       "    </tr>\n",
       "    <tr>\n",
       "      <th>1</th>\n",
       "      <td>Ampere Battery Info</td>\n",
       "      <td>Tools</td>\n",
       "      <td>4.4</td>\n",
       "      <td>64.0</td>\n",
       "      <td>7662</td>\n",
       "      <td>True</td>\n",
       "      <td>0.0</td>\n",
       "      <td>2.9</td>\n",
       "      <td>5.0</td>\n",
       "      <td>Webserveis</td>\n",
       "      <td>2020-05-21</td>\n",
       "      <td>2021-05-06</td>\n",
       "      <td>Everyone</td>\n",
       "      <td>True</td>\n",
       "      <td>False</td>\n",
       "      <td>False</td>\n",
       "      <td>2021-06-15</td>\n",
       "    </tr>\n",
       "    <tr>\n",
       "      <th>2</th>\n",
       "      <td>Vibook</td>\n",
       "      <td>Productivity</td>\n",
       "      <td>NaN</td>\n",
       "      <td>NaN</td>\n",
       "      <td>58</td>\n",
       "      <td>True</td>\n",
       "      <td>0.0</td>\n",
       "      <td>3.7</td>\n",
       "      <td>4.0.3</td>\n",
       "      <td>Cabin Crew</td>\n",
       "      <td>2019-08-09</td>\n",
       "      <td>2019-08-19</td>\n",
       "      <td>Everyone</td>\n",
       "      <td>False</td>\n",
       "      <td>False</td>\n",
       "      <td>False</td>\n",
       "      <td>2021-06-15</td>\n",
       "    </tr>\n",
       "    <tr>\n",
       "      <th>3</th>\n",
       "      <td>Smart City Trichy Public Service Vehicles 17UC...</td>\n",
       "      <td>Communication</td>\n",
       "      <td>5.0</td>\n",
       "      <td>5.0</td>\n",
       "      <td>19</td>\n",
       "      <td>True</td>\n",
       "      <td>0.0</td>\n",
       "      <td>1.8</td>\n",
       "      <td>4.0.3</td>\n",
       "      <td>Climate Smart Tech2</td>\n",
       "      <td>2018-09-10</td>\n",
       "      <td>2018-10-13</td>\n",
       "      <td>Everyone</td>\n",
       "      <td>True</td>\n",
       "      <td>False</td>\n",
       "      <td>False</td>\n",
       "      <td>2021-06-15</td>\n",
       "    </tr>\n",
       "    <tr>\n",
       "      <th>4</th>\n",
       "      <td>GROW.me</td>\n",
       "      <td>Tools</td>\n",
       "      <td>NaN</td>\n",
       "      <td>NaN</td>\n",
       "      <td>478</td>\n",
       "      <td>True</td>\n",
       "      <td>0.0</td>\n",
       "      <td>6.2</td>\n",
       "      <td>4.1</td>\n",
       "      <td>Rafal Milek-Horodyski</td>\n",
       "      <td>2020-02-21</td>\n",
       "      <td>2018-11-12</td>\n",
       "      <td>Everyone</td>\n",
       "      <td>False</td>\n",
       "      <td>False</td>\n",
       "      <td>False</td>\n",
       "      <td>2021-06-15</td>\n",
       "    </tr>\n",
       "    <tr>\n",
       "      <th>...</th>\n",
       "      <td>...</td>\n",
       "      <td>...</td>\n",
       "      <td>...</td>\n",
       "      <td>...</td>\n",
       "      <td>...</td>\n",
       "      <td>...</td>\n",
       "      <td>...</td>\n",
       "      <td>...</td>\n",
       "      <td>...</td>\n",
       "      <td>...</td>\n",
       "      <td>...</td>\n",
       "      <td>...</td>\n",
       "      <td>...</td>\n",
       "      <td>...</td>\n",
       "      <td>...</td>\n",
       "      <td>...</td>\n",
       "      <td>...</td>\n",
       "    </tr>\n",
       "    <tr>\n",
       "      <th>2312939</th>\n",
       "      <td>大俠客—熱血歸來</td>\n",
       "      <td>Role Playing</td>\n",
       "      <td>4.3</td>\n",
       "      <td>16775.0</td>\n",
       "      <td>337109</td>\n",
       "      <td>True</td>\n",
       "      <td>0.0</td>\n",
       "      <td>77.0</td>\n",
       "      <td>4.1</td>\n",
       "      <td>ALICE GAME</td>\n",
       "      <td>NaN</td>\n",
       "      <td>2021-06-01</td>\n",
       "      <td>Teen</td>\n",
       "      <td>False</td>\n",
       "      <td>False</td>\n",
       "      <td>False</td>\n",
       "      <td>2021-06-16</td>\n",
       "    </tr>\n",
       "    <tr>\n",
       "      <th>2312940</th>\n",
       "      <td>ORU Online</td>\n",
       "      <td>Education</td>\n",
       "      <td>NaN</td>\n",
       "      <td>NaN</td>\n",
       "      <td>430</td>\n",
       "      <td>True</td>\n",
       "      <td>0.0</td>\n",
       "      <td>44.0</td>\n",
       "      <td>4.1</td>\n",
       "      <td>3Dream Studios, LLC</td>\n",
       "      <td>2018-01-17</td>\n",
       "      <td>2018-02-02</td>\n",
       "      <td>Everyone</td>\n",
       "      <td>False</td>\n",
       "      <td>False</td>\n",
       "      <td>False</td>\n",
       "      <td>2021-06-16</td>\n",
       "    </tr>\n",
       "    <tr>\n",
       "      <th>2312941</th>\n",
       "      <td>Data Structure</td>\n",
       "      <td>Education</td>\n",
       "      <td>NaN</td>\n",
       "      <td>NaN</td>\n",
       "      <td>202</td>\n",
       "      <td>True</td>\n",
       "      <td>0.0</td>\n",
       "      <td>29.0</td>\n",
       "      <td>5.0</td>\n",
       "      <td>appoworld</td>\n",
       "      <td>2018-08-19</td>\n",
       "      <td>2018-08-19</td>\n",
       "      <td>Everyone</td>\n",
       "      <td>False</td>\n",
       "      <td>False</td>\n",
       "      <td>False</td>\n",
       "      <td>2021-06-16</td>\n",
       "    </tr>\n",
       "    <tr>\n",
       "      <th>2312942</th>\n",
       "      <td>Devi Suktam</td>\n",
       "      <td>Music &amp; Audio</td>\n",
       "      <td>3.5</td>\n",
       "      <td>8.0</td>\n",
       "      <td>2635</td>\n",
       "      <td>True</td>\n",
       "      <td>0.0</td>\n",
       "      <td>10.0</td>\n",
       "      <td>5.0</td>\n",
       "      <td>Bhakti</td>\n",
       "      <td>2016-08-01</td>\n",
       "      <td>2021-05-05</td>\n",
       "      <td>Everyone</td>\n",
       "      <td>True</td>\n",
       "      <td>False</td>\n",
       "      <td>False</td>\n",
       "      <td>2021-06-16</td>\n",
       "    </tr>\n",
       "    <tr>\n",
       "      <th>2312943</th>\n",
       "      <td>Biliyor Musun - Sonsuz Yarış</td>\n",
       "      <td>Trivia</td>\n",
       "      <td>5.0</td>\n",
       "      <td>12.0</td>\n",
       "      <td>354</td>\n",
       "      <td>True</td>\n",
       "      <td>0.0</td>\n",
       "      <td>5.2</td>\n",
       "      <td>5.0</td>\n",
       "      <td>Y Yazılım</td>\n",
       "      <td>2019-08-09</td>\n",
       "      <td>2019-08-19</td>\n",
       "      <td>Everyone</td>\n",
       "      <td>True</td>\n",
       "      <td>False</td>\n",
       "      <td>False</td>\n",
       "      <td>2021-06-16</td>\n",
       "    </tr>\n",
       "  </tbody>\n",
       "</table>\n",
       "<p>2312936 rows × 17 columns</p>\n",
       "</div>"
      ],
      "text/plain": [
       "                                                  App Name       Category  \\\n",
       "0                                                  Gakondo      Adventure   \n",
       "1                                      Ampere Battery Info          Tools   \n",
       "2                                                   Vibook   Productivity   \n",
       "3        Smart City Trichy Public Service Vehicles 17UC...  Communication   \n",
       "4                                                  GROW.me          Tools   \n",
       "...                                                    ...            ...   \n",
       "2312939                                           大俠客—熱血歸來   Role Playing   \n",
       "2312940                                         ORU Online      Education   \n",
       "2312941                                     Data Structure      Education   \n",
       "2312942                                        Devi Suktam  Music & Audio   \n",
       "2312943                       Biliyor Musun - Sonsuz Yarış         Trivia   \n",
       "\n",
       "         Rating  Rating Count  Maximum Installs  Free  Price(in USD)  \\\n",
       "0           NaN           NaN                15  True            0.0   \n",
       "1           4.4          64.0              7662  True            0.0   \n",
       "2           NaN           NaN                58  True            0.0   \n",
       "3           5.0           5.0                19  True            0.0   \n",
       "4           NaN           NaN               478  True            0.0   \n",
       "...         ...           ...               ...   ...            ...   \n",
       "2312939     4.3       16775.0            337109  True            0.0   \n",
       "2312940     NaN           NaN               430  True            0.0   \n",
       "2312941     NaN           NaN               202  True            0.0   \n",
       "2312942     3.5           8.0              2635  True            0.0   \n",
       "2312943     5.0          12.0               354  True            0.0   \n",
       "\n",
       "        Size(in mb) Minimum Android                       Developer Id  \\\n",
       "0              10.0             7.1  Jean Confident Irénée NIYIZIBYOSE   \n",
       "1               2.9             5.0                         Webserveis   \n",
       "2               3.7           4.0.3                         Cabin Crew   \n",
       "3               1.8           4.0.3                Climate Smart Tech2   \n",
       "4               6.2             4.1              Rafal Milek-Horodyski   \n",
       "...             ...             ...                                ...   \n",
       "2312939        77.0             4.1                         ALICE GAME   \n",
       "2312940        44.0             4.1                3Dream Studios, LLC   \n",
       "2312941        29.0             5.0                          appoworld   \n",
       "2312942        10.0             5.0                             Bhakti   \n",
       "2312943         5.2             5.0                          Y Yazılım   \n",
       "\n",
       "           Released Last Updated Content Rating  Ad Supported  \\\n",
       "0        2020-02-26   2020-02-26       Everyone         False   \n",
       "1        2020-05-21   2021-05-06       Everyone          True   \n",
       "2        2019-08-09   2019-08-19       Everyone         False   \n",
       "3        2018-09-10   2018-10-13       Everyone          True   \n",
       "4        2020-02-21   2018-11-12       Everyone         False   \n",
       "...             ...          ...            ...           ...   \n",
       "2312939         NaN   2021-06-01           Teen         False   \n",
       "2312940  2018-01-17   2018-02-02       Everyone         False   \n",
       "2312941  2018-08-19   2018-08-19       Everyone         False   \n",
       "2312942  2016-08-01   2021-05-05       Everyone          True   \n",
       "2312943  2019-08-09   2019-08-19       Everyone          True   \n",
       "\n",
       "         In App Purchases  Editors Choice Scraped Time  \n",
       "0                   False           False   2021-06-15  \n",
       "1                   False           False   2021-06-15  \n",
       "2                   False           False   2021-06-15  \n",
       "3                   False           False   2021-06-15  \n",
       "4                   False           False   2021-06-15  \n",
       "...                   ...             ...          ...  \n",
       "2312939             False           False   2021-06-16  \n",
       "2312940             False           False   2021-06-16  \n",
       "2312941             False           False   2021-06-16  \n",
       "2312942             False           False   2021-06-16  \n",
       "2312943             False           False   2021-06-16  \n",
       "\n",
       "[2312936 rows x 17 columns]"
      ]
     },
     "execution_count": 49,
     "metadata": {},
     "output_type": "execute_result"
    }
   ],
   "source": [
    "df"
   ]
  },
  {
   "cell_type": "markdown",
   "metadata": {},
   "source": [
    "### Removing some final redundant values.\n"
   ]
  },
  {
   "cell_type": "code",
   "execution_count": 50,
   "metadata": {},
   "outputs": [
    {
     "data": {
      "text/plain": [
       "Index(['App Name', 'Category', 'Rating', 'Rating Count', 'Maximum Installs',\n",
       "       'Free', 'Price(in USD)', 'Size(in mb)', 'Minimum Android',\n",
       "       'Developer Id', 'Released', 'Last Updated', 'Content Rating',\n",
       "       'Ad Supported', 'In App Purchases', 'Editors Choice', 'Scraped Time'],\n",
       "      dtype='object')"
      ]
     },
     "execution_count": 50,
     "metadata": {},
     "output_type": "execute_result"
    }
   ],
   "source": [
    "df.columns"
   ]
  },
  {
   "cell_type": "code",
   "execution_count": 51,
   "metadata": {},
   "outputs": [
    {
     "name": "stdout",
     "output_type": "stream",
     "text": [
      "Wall time: 1min 3s\n"
     ]
    }
   ],
   "source": [
    "%%time\n",
    "d=df.pivot_table(index=['App Name',\n",
    "       'Free','Developer Id',  'Released', 'Last Updated', 'Content Rating','Ad Supported', 'In App Purchases', 'Editors Choice'],\n",
    "                 values=['Rating', 'Rating Count','Category', 'Price(in USD)', 'Size(in mb)','Maximum Installs', 'Minimum Android'],\n",
    "                 aggfunc={'Rating':np.mean,'Rating Count':np.sum,'Category':set, 'Price(in USD)':np.max,'Size(in mb)':set,'Maximum Installs':np.max, 'Minimum Android':set}).reset_index()"
   ]
  },
  {
   "cell_type": "code",
   "execution_count": 52,
   "metadata": {},
   "outputs": [],
   "source": [
    "d[\"Category\"]=d[\"Category\"].apply(lambda x:\",\".join(x))"
   ]
  },
  {
   "cell_type": "code",
   "execution_count": 53,
   "metadata": {},
   "outputs": [],
   "source": [
    "d[\"Minimum Android\"]=d[\"Minimum Android\"].apply(lambda x:max(x))"
   ]
  },
  {
   "cell_type": "code",
   "execution_count": 54,
   "metadata": {},
   "outputs": [],
   "source": [
    "d[\"Size(in mb)\"]=d[\"Size(in mb)\"].apply(lambda x:max(x))"
   ]
  },
  {
   "cell_type": "code",
   "execution_count": 55,
   "metadata": {},
   "outputs": [],
   "source": [
    "d.drop_duplicates([\"App Name\",\"Developer Id\",\"Released\"],keep=\"first\",inplace=True)"
   ]
  },
  {
   "cell_type": "code",
   "execution_count": 56,
   "metadata": {},
   "outputs": [],
   "source": [
    "d.reset_index(drop=True,inplace=True)"
   ]
  },
  {
   "cell_type": "markdown",
   "metadata": {},
   "source": [
    "### Exporting the data back to a new file. Also, I included a column of index in the file which I can use as a sort of primary key (comprising of App Name, Developer Id and release date). Not perfect but workable fix for us."
   ]
  },
  {
   "cell_type": "code",
   "execution_count": 57,
   "metadata": {},
   "outputs": [
    {
     "data": {
      "text/plain": [
       "Index(['App Name', 'Free', 'Developer Id', 'Released', 'Last Updated',\n",
       "       'Content Rating', 'Ad Supported', 'In App Purchases', 'Editors Choice',\n",
       "       'Category', 'Maximum Installs', 'Minimum Android', 'Price(in USD)',\n",
       "       'Rating', 'Rating Count', 'Size(in mb)'],\n",
       "      dtype='object')"
      ]
     },
     "execution_count": 57,
     "metadata": {},
     "output_type": "execute_result"
    }
   ],
   "source": [
    "d.columns"
   ]
  },
  {
   "cell_type": "code",
   "execution_count": 58,
   "metadata": {},
   "outputs": [],
   "source": [
    "d=d[['App Name', 'Developer Id', 'Released', 'Last Updated','Category','Content Rating', 'Rating', 'Rating Count',\n",
    "    'Maximum Installs', 'Minimum Android','Size(in mb)','Price(in USD)','Free',\n",
    "        'Ad Supported', 'In App Purchases', 'Editors Choice']]"
   ]
  },
  {
   "cell_type": "code",
   "execution_count": 59,
   "metadata": {},
   "outputs": [
    {
     "data": {
      "text/html": [
       "<div>\n",
       "<style scoped>\n",
       "    .dataframe tbody tr th:only-of-type {\n",
       "        vertical-align: middle;\n",
       "    }\n",
       "\n",
       "    .dataframe tbody tr th {\n",
       "        vertical-align: top;\n",
       "    }\n",
       "\n",
       "    .dataframe thead th {\n",
       "        text-align: right;\n",
       "    }\n",
       "</style>\n",
       "<table border=\"1\" class=\"dataframe\">\n",
       "  <thead>\n",
       "    <tr style=\"text-align: right;\">\n",
       "      <th></th>\n",
       "      <th>App Name</th>\n",
       "      <th>Developer Id</th>\n",
       "      <th>Released</th>\n",
       "      <th>Last Updated</th>\n",
       "      <th>Category</th>\n",
       "      <th>Content Rating</th>\n",
       "      <th>Rating</th>\n",
       "      <th>Rating Count</th>\n",
       "      <th>Maximum Installs</th>\n",
       "      <th>Minimum Android</th>\n",
       "      <th>Size(in mb)</th>\n",
       "      <th>Price(in USD)</th>\n",
       "      <th>Free</th>\n",
       "      <th>Ad Supported</th>\n",
       "      <th>In App Purchases</th>\n",
       "      <th>Editors Choice</th>\n",
       "    </tr>\n",
       "  </thead>\n",
       "  <tbody>\n",
       "    <tr>\n",
       "      <th>0</th>\n",
       "      <td>!</td>\n",
       "      <td>RucKyGAMES</td>\n",
       "      <td>2013-07-09</td>\n",
       "      <td>2018-12-18</td>\n",
       "      <td>Sports</td>\n",
       "      <td>Everyone</td>\n",
       "      <td>NaN</td>\n",
       "      <td>0.0</td>\n",
       "      <td>1294</td>\n",
       "      <td>2.3.3</td>\n",
       "      <td>2.4</td>\n",
       "      <td>0.0</td>\n",
       "      <td>True</td>\n",
       "      <td>True</td>\n",
       "      <td>False</td>\n",
       "      <td>False</td>\n",
       "    </tr>\n",
       "    <tr>\n",
       "      <th>1</th>\n",
       "      <td>! PANIC !</td>\n",
       "      <td>Per Atwood</td>\n",
       "      <td>2019-09-13</td>\n",
       "      <td>2019-09-13</td>\n",
       "      <td>Arcade</td>\n",
       "      <td>Everyone</td>\n",
       "      <td>4.3</td>\n",
       "      <td>23.0</td>\n",
       "      <td>804</td>\n",
       "      <td>6.0</td>\n",
       "      <td>28.0</td>\n",
       "      <td>0.0</td>\n",
       "      <td>True</td>\n",
       "      <td>False</td>\n",
       "      <td>False</td>\n",
       "      <td>False</td>\n",
       "    </tr>\n",
       "    <tr>\n",
       "      <th>2</th>\n",
       "      <td>! want ( iwant.pk )</td>\n",
       "      <td>iwant.pk</td>\n",
       "      <td>2017-09-20</td>\n",
       "      <td>2020-01-24</td>\n",
       "      <td>Business</td>\n",
       "      <td>Everyone</td>\n",
       "      <td>4.7</td>\n",
       "      <td>38.0</td>\n",
       "      <td>2546</td>\n",
       "      <td>4.4</td>\n",
       "      <td>9.9</td>\n",
       "      <td>0.0</td>\n",
       "      <td>True</td>\n",
       "      <td>False</td>\n",
       "      <td>False</td>\n",
       "      <td>False</td>\n",
       "    </tr>\n",
       "    <tr>\n",
       "      <th>3</th>\n",
       "      <td>!!! NOTHING</td>\n",
       "      <td>NLA RASS</td>\n",
       "      <td>2021-03-26</td>\n",
       "      <td>2021-03-26</td>\n",
       "      <td>Entertainment</td>\n",
       "      <td>Everyone</td>\n",
       "      <td>NaN</td>\n",
       "      <td>0.0</td>\n",
       "      <td>4</td>\n",
       "      <td>5.0</td>\n",
       "      <td>22.0</td>\n",
       "      <td>0.0</td>\n",
       "      <td>True</td>\n",
       "      <td>True</td>\n",
       "      <td>False</td>\n",
       "      <td>False</td>\n",
       "    </tr>\n",
       "    <tr>\n",
       "      <th>4</th>\n",
       "      <td>!Bits</td>\n",
       "      <td>Kim jun</td>\n",
       "      <td>2019-09-26</td>\n",
       "      <td>2020-10-12</td>\n",
       "      <td>Entertainment</td>\n",
       "      <td>Everyone</td>\n",
       "      <td>3.3</td>\n",
       "      <td>33.0</td>\n",
       "      <td>3987</td>\n",
       "      <td>4.1</td>\n",
       "      <td>2.1</td>\n",
       "      <td>0.0</td>\n",
       "      <td>True</td>\n",
       "      <td>False</td>\n",
       "      <td>False</td>\n",
       "      <td>False</td>\n",
       "    </tr>\n",
       "    <tr>\n",
       "      <th>...</th>\n",
       "      <td>...</td>\n",
       "      <td>...</td>\n",
       "      <td>...</td>\n",
       "      <td>...</td>\n",
       "      <td>...</td>\n",
       "      <td>...</td>\n",
       "      <td>...</td>\n",
       "      <td>...</td>\n",
       "      <td>...</td>\n",
       "      <td>...</td>\n",
       "      <td>...</td>\n",
       "      <td>...</td>\n",
       "      <td>...</td>\n",
       "      <td>...</td>\n",
       "      <td>...</td>\n",
       "      <td>...</td>\n",
       "    </tr>\n",
       "    <tr>\n",
       "      <th>2241352</th>\n",
       "      <td>🪑 Furniture Furnicraft MCPE</td>\n",
       "      <td>Crafting TV</td>\n",
       "      <td>2020-11-28</td>\n",
       "      <td>2021-05-24</td>\n",
       "      <td>Entertainment</td>\n",
       "      <td>Everyone</td>\n",
       "      <td>4.2</td>\n",
       "      <td>2584.0</td>\n",
       "      <td>201411</td>\n",
       "      <td>4.2</td>\n",
       "      <td>20.0</td>\n",
       "      <td>0.0</td>\n",
       "      <td>True</td>\n",
       "      <td>True</td>\n",
       "      <td>False</td>\n",
       "      <td>False</td>\n",
       "    </tr>\n",
       "    <tr>\n",
       "      <th>2241353</th>\n",
       "      <td>🪑 MCPE Furniture Lance Mod</td>\n",
       "      <td>Crafting TV</td>\n",
       "      <td>2020-11-28</td>\n",
       "      <td>2021-05-28</td>\n",
       "      <td>Entertainment</td>\n",
       "      <td>Everyone</td>\n",
       "      <td>4.0</td>\n",
       "      <td>171.0</td>\n",
       "      <td>20521</td>\n",
       "      <td>4.2</td>\n",
       "      <td>34.0</td>\n",
       "      <td>0.0</td>\n",
       "      <td>True</td>\n",
       "      <td>True</td>\n",
       "      <td>False</td>\n",
       "      <td>False</td>\n",
       "    </tr>\n",
       "    <tr>\n",
       "      <th>2241354</th>\n",
       "      <td>🪑 MCPE Furniture Plus Mod</td>\n",
       "      <td>Republicraft</td>\n",
       "      <td>2020-12-22</td>\n",
       "      <td>2021-06-03</td>\n",
       "      <td>Entertainment</td>\n",
       "      <td>Everyone</td>\n",
       "      <td>3.9</td>\n",
       "      <td>13.0</td>\n",
       "      <td>1908</td>\n",
       "      <td>4.2</td>\n",
       "      <td>7.7</td>\n",
       "      <td>0.0</td>\n",
       "      <td>True</td>\n",
       "      <td>True</td>\n",
       "      <td>False</td>\n",
       "      <td>False</td>\n",
       "    </tr>\n",
       "    <tr>\n",
       "      <th>2241355</th>\n",
       "      <td>🪑 MCPE Furniture Variants</td>\n",
       "      <td>GG Craft</td>\n",
       "      <td>2021-02-14</td>\n",
       "      <td>2021-02-15</td>\n",
       "      <td>Entertainment</td>\n",
       "      <td>Everyone</td>\n",
       "      <td>4.1</td>\n",
       "      <td>14.0</td>\n",
       "      <td>4552</td>\n",
       "      <td>4.2</td>\n",
       "      <td>9.0</td>\n",
       "      <td>0.0</td>\n",
       "      <td>True</td>\n",
       "      <td>True</td>\n",
       "      <td>False</td>\n",
       "      <td>False</td>\n",
       "    </tr>\n",
       "    <tr>\n",
       "      <th>2241356</th>\n",
       "      <td>󠁧󠁢󠁥󠁮󠁧󠁿Radio England 🏴󠁧󠁢󠁥󠁮󠁧󠁿📻</td>\n",
       "      <td>wsmrApps</td>\n",
       "      <td>2017-09-06</td>\n",
       "      <td>2018-04-18</td>\n",
       "      <td>Music &amp; Audio</td>\n",
       "      <td>Everyone 10+</td>\n",
       "      <td>NaN</td>\n",
       "      <td>0.0</td>\n",
       "      <td>370</td>\n",
       "      <td>4.1</td>\n",
       "      <td>3.0</td>\n",
       "      <td>0.0</td>\n",
       "      <td>True</td>\n",
       "      <td>True</td>\n",
       "      <td>True</td>\n",
       "      <td>False</td>\n",
       "    </tr>\n",
       "  </tbody>\n",
       "</table>\n",
       "<p>2241357 rows × 16 columns</p>\n",
       "</div>"
      ],
      "text/plain": [
       "                             App Name  Developer Id    Released Last Updated  \\\n",
       "0                                   !    RucKyGAMES  2013-07-09   2018-12-18   \n",
       "1                           ! PANIC !    Per Atwood  2019-09-13   2019-09-13   \n",
       "2                 ! want ( iwant.pk )      iwant.pk  2017-09-20   2020-01-24   \n",
       "3                         !!! NOTHING      NLA RASS  2021-03-26   2021-03-26   \n",
       "4                               !Bits       Kim jun  2019-09-26   2020-10-12   \n",
       "...                               ...           ...         ...          ...   \n",
       "2241352   🪑 Furniture Furnicraft MCPE   Crafting TV  2020-11-28   2021-05-24   \n",
       "2241353    🪑 MCPE Furniture Lance Mod   Crafting TV  2020-11-28   2021-05-28   \n",
       "2241354     🪑 MCPE Furniture Plus Mod  Republicraft  2020-12-22   2021-06-03   \n",
       "2241355     🪑 MCPE Furniture Variants      GG Craft  2021-02-14   2021-02-15   \n",
       "2241356  󠁧󠁢󠁥󠁮󠁧󠁿Radio England 🏴󠁧󠁢󠁥󠁮󠁧󠁿📻      wsmrApps  2017-09-06   2018-04-18   \n",
       "\n",
       "              Category Content Rating  Rating  Rating Count  Maximum Installs  \\\n",
       "0               Sports       Everyone     NaN           0.0              1294   \n",
       "1               Arcade       Everyone     4.3          23.0               804   \n",
       "2             Business       Everyone     4.7          38.0              2546   \n",
       "3        Entertainment       Everyone     NaN           0.0                 4   \n",
       "4        Entertainment       Everyone     3.3          33.0              3987   \n",
       "...                ...            ...     ...           ...               ...   \n",
       "2241352  Entertainment       Everyone     4.2        2584.0            201411   \n",
       "2241353  Entertainment       Everyone     4.0         171.0             20521   \n",
       "2241354  Entertainment       Everyone     3.9          13.0              1908   \n",
       "2241355  Entertainment       Everyone     4.1          14.0              4552   \n",
       "2241356  Music & Audio   Everyone 10+     NaN           0.0               370   \n",
       "\n",
       "        Minimum Android Size(in mb)  Price(in USD)  Free  Ad Supported  \\\n",
       "0                 2.3.3         2.4            0.0  True          True   \n",
       "1                   6.0        28.0            0.0  True         False   \n",
       "2                   4.4         9.9            0.0  True         False   \n",
       "3                   5.0        22.0            0.0  True          True   \n",
       "4                   4.1         2.1            0.0  True         False   \n",
       "...                 ...         ...            ...   ...           ...   \n",
       "2241352             4.2        20.0            0.0  True          True   \n",
       "2241353             4.2        34.0            0.0  True          True   \n",
       "2241354             4.2         7.7            0.0  True          True   \n",
       "2241355             4.2         9.0            0.0  True          True   \n",
       "2241356             4.1         3.0            0.0  True          True   \n",
       "\n",
       "         In App Purchases  Editors Choice  \n",
       "0                   False           False  \n",
       "1                   False           False  \n",
       "2                   False           False  \n",
       "3                   False           False  \n",
       "4                   False           False  \n",
       "...                   ...             ...  \n",
       "2241352             False           False  \n",
       "2241353             False           False  \n",
       "2241354             False           False  \n",
       "2241355             False           False  \n",
       "2241356              True           False  \n",
       "\n",
       "[2241357 rows x 16 columns]"
      ]
     },
     "execution_count": 59,
     "metadata": {},
     "output_type": "execute_result"
    }
   ],
   "source": [
    "d"
   ]
  },
  {
   "cell_type": "code",
   "execution_count": 60,
   "metadata": {
    "scrolled": true
   },
   "outputs": [
    {
     "name": "stdout",
     "output_type": "stream",
     "text": [
      "Wall time: 0 ns\n"
     ]
    }
   ],
   "source": [
    "%%time\n",
    "# d.to_csv(r\"C:\\Users\\soura\\OneDrive\\Documents\\Datasets\\GooglePlaystore2.csv\")"
   ]
  },
  {
   "cell_type": "markdown",
   "metadata": {},
   "source": [
    "### We analysed this app data for different categories using Tableau. You can directly watch the visualisation here: \n",
    "### https://public.tableau.com/views/GooglePlaystoreanalysis/Dashboard1?:language=en-GB&:display_count=n&:origin=viz_share_link"
   ]
  },
  {
   "cell_type": "markdown",
   "metadata": {},
   "source": [
    "## Now lets do some Hypothesis testing:-\n",
    "#### (i) Are Paid Apps installed the same as all apps\n",
    "- H0: Mean installs of paid apps is same as population mean\n",
    "- H1:Mean installs of paid apps is not same as population mean"
   ]
  },
  {
   "cell_type": "code",
   "execution_count": 61,
   "metadata": {},
   "outputs": [],
   "source": [
    "x=d[(d[\"Free\"].notnull())&(d[\"Maximum Installs\"].notnull())].copy()"
   ]
  },
  {
   "cell_type": "code",
   "execution_count": 62,
   "metadata": {},
   "outputs": [],
   "source": [
    "q1,q3=x[\"Maximum Installs\"].quantile([0.25,0.75])"
   ]
  },
  {
   "cell_type": "code",
   "execution_count": 63,
   "metadata": {},
   "outputs": [],
   "source": [
    "iqr=q3-q1"
   ]
  },
  {
   "cell_type": "code",
   "execution_count": 64,
   "metadata": {},
   "outputs": [],
   "source": [
    "up=q3+(1.5*iqr)\n",
    "down=q1-(1.5*iqr)"
   ]
  },
  {
   "cell_type": "code",
   "execution_count": 65,
   "metadata": {},
   "outputs": [],
   "source": [
    "x=x[(x[\"Maximum Installs\"]<=up)&(x[\"Maximum Installs\"]>=down)]"
   ]
  },
  {
   "cell_type": "code",
   "execution_count": 66,
   "metadata": {},
   "outputs": [],
   "source": [
    "mean=x[\"Maximum Installs\"].mean()"
   ]
  },
  {
   "cell_type": "code",
   "execution_count": 67,
   "metadata": {},
   "outputs": [],
   "source": [
    "from statsmodels.stats.weightstats import ztest"
   ]
  },
  {
   "cell_type": "code",
   "execution_count": 68,
   "metadata": {},
   "outputs": [],
   "source": [
    "sample=x.loc[x[\"Free\"]==False,\"Maximum Installs\"].sample(n=250)"
   ]
  },
  {
   "cell_type": "code",
   "execution_count": 69,
   "metadata": {},
   "outputs": [],
   "source": [
    "z,p=ztest(sample,value=mean)"
   ]
  },
  {
   "cell_type": "code",
   "execution_count": 70,
   "metadata": {},
   "outputs": [
    {
     "name": "stdout",
     "output_type": "stream",
     "text": [
      "We can't reject Null Hypothesis\n"
     ]
    }
   ],
   "source": [
    "if p<=0.05:\n",
    "    print(\"Null Hypothesis rejected\")\n",
    "else:\n",
    "    print(\"We can't reject Null Hypothesis\")"
   ]
  },
  {
   "cell_type": "markdown",
   "metadata": {},
   "source": [
    "#### (ii) Are the installs of Free apps and Paid apps same?\n",
    "- H0:Mean installs of paid apps is same as free apps\n",
    "- H1:Mean installs of paid apps is not same as free apps"
   ]
  },
  {
   "cell_type": "code",
   "execution_count": 71,
   "metadata": {},
   "outputs": [],
   "source": [
    "import scipy.stats as stats"
   ]
  },
  {
   "cell_type": "code",
   "execution_count": 72,
   "metadata": {},
   "outputs": [],
   "source": [
    "sample1=x.loc[x[\"Free\"]==True,\"Maximum Installs\"].sample(n=30)\n",
    "sample2=x.loc[x[\"Free\"]==False,\"Maximum Installs\"].sample(n=30)"
   ]
  },
  {
   "cell_type": "code",
   "execution_count": 73,
   "metadata": {},
   "outputs": [],
   "source": [
    "v1=sample1.var(ddof=1)\n",
    "v2=sample2.var(ddof=1)"
   ]
  },
  {
   "cell_type": "code",
   "execution_count": 74,
   "metadata": {},
   "outputs": [
    {
     "data": {
      "text/plain": [
       "11201834.17931035"
      ]
     },
     "execution_count": 74,
     "metadata": {},
     "output_type": "execute_result"
    }
   ],
   "source": [
    "v1"
   ]
  },
  {
   "cell_type": "code",
   "execution_count": 75,
   "metadata": {},
   "outputs": [
    {
     "data": {
      "text/plain": [
       "12947189.062068965"
      ]
     },
     "execution_count": 75,
     "metadata": {},
     "output_type": "execute_result"
    }
   ],
   "source": [
    "v2"
   ]
  },
  {
   "cell_type": "code",
   "execution_count": 76,
   "metadata": {},
   "outputs": [],
   "source": [
    "t,p=stats.ttest_ind(sample1,sample2,equal_var=True)"
   ]
  },
  {
   "cell_type": "code",
   "execution_count": 77,
   "metadata": {},
   "outputs": [
    {
     "data": {
      "text/plain": [
       "0.582958622509139"
      ]
     },
     "execution_count": 77,
     "metadata": {},
     "output_type": "execute_result"
    }
   ],
   "source": [
    "p"
   ]
  },
  {
   "cell_type": "code",
   "execution_count": 78,
   "metadata": {},
   "outputs": [
    {
     "name": "stdout",
     "output_type": "stream",
     "text": [
      "We can't reject Null Hypothesis\n"
     ]
    }
   ],
   "source": [
    "if p<=0.05:\n",
    "    print(\"Null Hypothesis rejected\")\n",
    "else:\n",
    "    print(\"We can't reject Null Hypothesis\")"
   ]
  },
  {
   "cell_type": "markdown",
   "metadata": {},
   "source": [
    "#### (iii) Are installs for different Content Types same?\n",
    "- H0: Mean installs of all content types are same\n",
    "- H1: Mean installs of atleast one content type is different"
   ]
  },
  {
   "cell_type": "code",
   "execution_count": 79,
   "metadata": {},
   "outputs": [],
   "source": [
    "y=d[(d[\"Content Rating\"].notnull()) & (d[\"Maximum Installs\"].notnull())].copy()"
   ]
  },
  {
   "cell_type": "code",
   "execution_count": 80,
   "metadata": {},
   "outputs": [],
   "source": [
    "q1,q3=x[\"Maximum Installs\"].quantile([0.25,0.75])"
   ]
  },
  {
   "cell_type": "code",
   "execution_count": 81,
   "metadata": {},
   "outputs": [],
   "source": [
    "iqr=q3-q1\n",
    "up=q3+(1.5*iqr)\n",
    "down=q1-(1.5*iqr)"
   ]
  },
  {
   "cell_type": "code",
   "execution_count": 82,
   "metadata": {},
   "outputs": [],
   "source": [
    "y=y[(y[\"Maximum Installs\"]<=up)&(y[\"Maximum Installs\"]>=down)]"
   ]
  },
  {
   "cell_type": "code",
   "execution_count": 83,
   "metadata": {},
   "outputs": [
    {
     "data": {
      "text/plain": [
       "Everyone           1412006\n",
       "Teen                125730\n",
       "Mature 17+           35685\n",
       "Everyone 10+         19133\n",
       "Unrated                 78\n",
       "Adults only 18+         77\n",
       "Name: Content Rating, dtype: int64"
      ]
     },
     "execution_count": 83,
     "metadata": {},
     "output_type": "execute_result"
    }
   ],
   "source": [
    "y[\"Content Rating\"].value_counts()"
   ]
  },
  {
   "cell_type": "code",
   "execution_count": 84,
   "metadata": {},
   "outputs": [],
   "source": [
    "a=y.loc[y[\"Content Rating\"]==\"Everyone\",\"Maximum Installs\"].sample(n=30)\n",
    "b=y.loc[y[\"Content Rating\"]==\"Teen\",\"Maximum Installs\"].sample(n=30)\n",
    "c=y.loc[y[\"Content Rating\"]==\"Mature 17+\",\"Maximum Installs\"].sample(n=30)\n",
    "e=y.loc[y[\"Content Rating\"]==\"Everyone 10+\",\"Maximum Installs\"].sample(n=30)\n",
    "f=y.loc[y[\"Content Rating\"]==\"Adults only 18+\",\"Maximum Installs\"].sample(n=30)"
   ]
  },
  {
   "cell_type": "code",
   "execution_count": 85,
   "metadata": {},
   "outputs": [],
   "source": [
    "f,p=stats.f_oneway(a,b,c,e,f)"
   ]
  },
  {
   "cell_type": "code",
   "execution_count": 86,
   "metadata": {},
   "outputs": [
    {
     "name": "stdout",
     "output_type": "stream",
     "text": [
      "We can't reject Null Hypothesis\n"
     ]
    }
   ],
   "source": [
    "if p<=0.05:\n",
    "    print(\"Null Hypothesis rejected\")\n",
    "else:\n",
    "    print(\"We can't reject Null Hypothesis\")"
   ]
  },
  {
   "cell_type": "markdown",
   "metadata": {},
   "source": [
    "#### (iv) Are installs for different Categories same?\n",
    "- H0: Mean installs of all categories are same\n",
    "- H1: Mean installs of atleast one category is different"
   ]
  },
  {
   "cell_type": "code",
   "execution_count": 87,
   "metadata": {},
   "outputs": [],
   "source": [
    "x[\"Proper Category\"]=x[\"Category\"]"
   ]
  },
  {
   "cell_type": "code",
   "execution_count": 88,
   "metadata": {},
   "outputs": [],
   "source": [
    "x[\"Proper Category\"]=x[\"Proper Category\"].replace([\"Action\",\"Adventure\",\"Arcade\",\"Board\",\"Card\",\"Casino\",\"Puzzle\",\"Puzzle,Travel & Local\",\n",
    "                                                \"Racing\",\"Role Playing\",\"Simulation\",\"Sports\",\"Strategy\",\"Trivia\",\"Word\",\"Puzzle,Food & Drink\"],\"Games\")\n",
    "\n",
    "x[\"Proper Category\"]=x[\"Proper Category\"].replace([\"Art & Design\",\"Communication\",\"Communication,Maps & Navigation\",\"Music\",\n",
    "                                                  \"Music & Audio\",\"Photography\",\"Productivity\",\"Productivity,Lifestyle\",\n",
    "                                                  \"Tools\",\"Tools,Education\",\"Maps & Navigation,Communication\",\"Video Players & Editors\"],\"Tools\")\n",
    "\n",
    "x[\"Proper Category\"]=x[\"Proper Category\"].replace([\"Auto & Vehicles\",\"Maps & Navigation\",\"Travel & Local\"],\"Vehicles & Travels\")\n",
    "\n",
    "x[\"Proper Category\"]=x[\"Proper Category\"].replace([\"Beauty\",\"Casual\",\"Dating\",\"Entertainment\",\"Events\",\"Food & Drink\",\"Food & Drink,Art & Design\",\n",
    "                                                  \"Food & Drink,Puzzle\",\"Health & Fitness\",\"House & Home\",\"Lifestyle\",\"Lifestyle,Music & Audio\",\n",
    "                                                  \"Medical\",\"Parenting\",\"Personalization\",\"Shopping\",\"Social\",\"Social,Music & Audio\",\"Weather\",\n",
    "                                                  \"Lifestyle,Productivity\",\"Music & Audio,Lifestyle\",\"Music & Audio,Social\"],\"Lifestyle\")\n",
    "\n",
    "x[\"Proper Category\"]=x[\"Proper Category\"].replace([\"Books & Reference\",\"Books & Reference,Entertainment\",\"Books & Reference,Libraries & Demo\",\n",
    "                                                  \"Comics\",\"Education\",\"Education,Books & Reference\",\"Education,Entertainment\",\"Educational\",\n",
    "                                                  \"Entertainment,Books & Reference\",\"Libraries & Demo\",\"News & Magazines\",\n",
    "                                                  \"Libraries & Demo,Books & Reference\",\"Entertainment,Education\"],\"Education\")\n",
    "\n",
    "x[\"Proper Category\"]=x[\"Proper Category\"].replace([\"Business\",\"Finance\"],\"Business & Finance\")"
   ]
  },
  {
   "cell_type": "code",
   "execution_count": 89,
   "metadata": {},
   "outputs": [
    {
     "data": {
      "text/plain": [
       "Lifestyle                      618345\n",
       "Tools                          394048\n",
       "Education                      351724\n",
       "Games                          212589\n",
       "Business & Finance             177657\n",
       "Vehicles & Travels              92314\n",
       "Books & Reference,Education         1\n",
       "Name: Proper Category, dtype: int64"
      ]
     },
     "execution_count": 89,
     "metadata": {},
     "output_type": "execute_result"
    }
   ],
   "source": [
    "x[\"Proper Category\"].value_counts()"
   ]
  },
  {
   "cell_type": "code",
   "execution_count": 90,
   "metadata": {},
   "outputs": [],
   "source": [
    "p=x.loc[x[\"Proper Category\"]==\"Lifestyle\",\"Maximum Installs\"].sample(n=30)\n",
    "q=x.loc[x[\"Proper Category\"]==\"Tools\",\"Maximum Installs\"].sample(n=30)\n",
    "r=x.loc[x[\"Proper Category\"]==\"Education\",\"Maximum Installs\"].sample(n=30)\n",
    "s=x.loc[x[\"Proper Category\"]==\"Games\",\"Maximum Installs\"].sample(n=30)\n",
    "t=x.loc[x[\"Proper Category\"]==\"Business & Finance\",\"Maximum Installs\"].sample(n=30)\n",
    "u=x.loc[x[\"Proper Category\"]==\"Vehicles & Travels\",\"Maximum Installs\"].sample(n=30)"
   ]
  },
  {
   "cell_type": "code",
   "execution_count": 91,
   "metadata": {},
   "outputs": [],
   "source": [
    "f,p=stats.f_oneway(p,q,r,s,t,u)"
   ]
  },
  {
   "cell_type": "code",
   "execution_count": 92,
   "metadata": {},
   "outputs": [
    {
     "name": "stdout",
     "output_type": "stream",
     "text": [
      "We can't reject Null Hypothesis\n"
     ]
    }
   ],
   "source": [
    "if p<=0.05:\n",
    "    print(\"Null Hypothesis rejected\")\n",
    "else:\n",
    "    print(\"We can't reject Null Hypothesis\")"
   ]
  },
  {
   "cell_type": "markdown",
   "metadata": {},
   "source": [
    "#### (v) Is there any significant relation between Free/Paid apps and In-App Purchases\n",
    "- H0: There is no significant relation\n",
    "- H1: There is significant relation"
   ]
  },
  {
   "cell_type": "code",
   "execution_count": 93,
   "metadata": {},
   "outputs": [],
   "source": [
    "z=d[(d[\"Free\"].notnull()) & (d[\"In App Purchases\"].notnull())].copy()"
   ]
  },
  {
   "cell_type": "code",
   "execution_count": 94,
   "metadata": {},
   "outputs": [],
   "source": [
    "z=z.sample(500)"
   ]
  },
  {
   "cell_type": "code",
   "execution_count": 95,
   "metadata": {},
   "outputs": [],
   "source": [
    "data=pd.crosstab(z[\"Free\"],z[\"In App Purchases\"])"
   ]
  },
  {
   "cell_type": "code",
   "execution_count": 96,
   "metadata": {},
   "outputs": [],
   "source": [
    "stat,p,dof,exp=stats.chi2_contingency(data)"
   ]
  },
  {
   "cell_type": "code",
   "execution_count": 97,
   "metadata": {},
   "outputs": [
    {
     "name": "stdout",
     "output_type": "stream",
     "text": [
      "We can't reject Null Hypothesis\n"
     ]
    }
   ],
   "source": [
    "if p<=0.05:\n",
    "    print(\"Null Hypothesis rejected\")\n",
    "else:\n",
    "    print(\"We can't reject Null Hypothesis\")"
   ]
  },
  {
   "cell_type": "code",
   "execution_count": null,
   "metadata": {},
   "outputs": [],
   "source": []
  }
 ],
 "metadata": {
  "kernelspec": {
   "display_name": "Python 3",
   "language": "python",
   "name": "python3"
  },
  "language_info": {
   "codemirror_mode": {
    "name": "ipython",
    "version": 3
   },
   "file_extension": ".py",
   "mimetype": "text/x-python",
   "name": "python",
   "nbconvert_exporter": "python",
   "pygments_lexer": "ipython3",
   "version": "3.8.5"
  }
 },
 "nbformat": 4,
 "nbformat_minor": 4
}
